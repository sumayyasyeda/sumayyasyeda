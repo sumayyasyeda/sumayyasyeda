{
  "nbformat": 4,
  "nbformat_minor": 0,
  "metadata": {
    "colab": {
      "provenance": [],
      "collapsed_sections": [],
      "authorship_tag": "ABX9TyNmMTdsq7br/1sC4a4o99/5",
      "include_colab_link": true
    },
    "kernelspec": {
      "name": "python3",
      "display_name": "Python 3"
    },
    "language_info": {
      "name": "python"
    }
  },
  "cells": [
    {
      "cell_type": "markdown",
      "metadata": {
        "id": "view-in-github",
        "colab_type": "text"
      },
      "source": [
        "<a href=\"https://colab.research.google.com/github/sumayyasyeda/sumayyasyeda/blob/main/Linkedlist_pyhton.ipynb\" target=\"_parent\"><img src=\"https://colab.research.google.com/assets/colab-badge.svg\" alt=\"Open In Colab\"/></a>"
      ]
    },
    {
      "cell_type": "markdown",
      "source": [
        "#Assesment-2:\n",
        "Design a linked list, where every node contains firstname,lastname, hobby and phone number.\n",
        "Write functions to perform the following:\n",
        "\n",
        "#1.Add new element to the list."
      ],
      "metadata": {
        "id": "ShBnRKaiWrQd"
      }
    },
    {
      "cell_type": "code",
      "source": [
        "class Node:\n",
        "  def __init__(self,data=None):\n",
        "    self.data=data\n",
        "    self.next=None\n",
        "class Linked:\n",
        "  def __init__(self):\n",
        "    self.head=None \n",
        "\n",
        "  def show(self):\n",
        "    self.head=None\n",
        "  \n",
        "  def show(self):\n",
        "    node=self.head\n",
        "    while node is not None:\n",
        "      print(node.data)\n",
        "      node=node.next\n",
        "      \n",
        "  def add(self,new):\n",
        "    new_node=Node(new)\n",
        "    new_node.next=self.head  \n",
        "    self.head=new_node \n",
        "    \n",
        "     \n",
        "    \n",
        "\n",
        "link=Linked()\n",
        "\n",
        "elem=Node('lastname:s')\n",
        "link.head=elem\n",
        "elem2=Node('hobby:reding')\n",
        "link.head.next=elem2\n",
        "elem3=Node('phonenumber:9886349662')\n",
        "elem2.next=elem3\n",
        "link.add(\"firstname:sumayya\")\n",
        "\n",
        "link.show()    \n"
      ],
      "metadata": {
        "colab": {
          "base_uri": "https://localhost:8080/"
        },
        "id": "yqiYziuqcnmw",
        "outputId": "e0d4402e-64cf-4458-f784-c17cf449a90c"
      },
      "execution_count": null,
      "outputs": [
        {
          "output_type": "stream",
          "name": "stdout",
          "text": [
            "firstname:sumayya\n",
            "lastname:s\n",
            "hobby:reding\n",
            "phonenumber:9886349662\n"
          ]
        }
      ]
    },
    {
      "cell_type": "code",
      "source": [
        "#extra\n",
        "\n",
        "class Node:\n",
        "    def __init__(self, data):\n",
        "        self.data = data\n",
        "        self.next = None\n",
        "\n",
        "    def __repr__(self):\n",
        "        return self.data\n",
        "\n",
        "class LinkedList:\n",
        "    def __init__(self):\n",
        "        self.head = None\n",
        "\n",
        "    def __repr__(self):\n",
        "        node = self.head\n",
        "        nodes = []\n",
        "        while node is not None:\n",
        "            nodes.append(node.data)\n",
        "            node = node.next\n",
        "        nodes.append(\"none\")\n",
        "        return \" -> \".join(nodes)  \n",
        "  \n",
        "llist=LinkedList()\n",
        "first_node = Node(\"firstname:sumayya\")\n",
        "llist.head = first_node\n",
        "second_node = Node(\"lastname:s\")\n",
        "third_node = Node(\"hobby:reading\")\n",
        "forth_node=Node(\"phonenumber:12345\")\n",
        "first_node.next = second_node\n",
        "second_node.next = third_node\n",
        "third_node.next=forth_node\n",
        "\n",
        "newelement=Node(\"course:python\")\n",
        "forth_node.next=newelement\n",
        "llist"
      ],
      "metadata": {
        "colab": {
          "base_uri": "https://localhost:8080/"
        },
        "id": "u2CUDgPvWtm9",
        "outputId": "fc71298a-9655-4276-a3bc-16aca5e567c3"
      },
      "execution_count": null,
      "outputs": [
        {
          "output_type": "execute_result",
          "data": {
            "text/plain": [
              "firstname:sumayya -> lastname:s -> hobby:reading -> phonenumber:12345 -> course:python -> none"
            ]
          },
          "metadata": {},
          "execution_count": 58
        }
      ]
    },
    {
      "cell_type": "markdown",
      "source": [
        "# 2.Search and Rename an element from the list"
      ],
      "metadata": {
        "id": "s4XCFR5YXBI-"
      }
    },
    {
      "cell_type": "code",
      "source": [
        "class Node:\n",
        "  def __init__(self,data=None):\n",
        "    self.data=data\n",
        "    self.next=None\n",
        "class Linked:\n",
        "  def __init__(self):\n",
        "    self.head=None \n",
        "\n",
        "  def show(self):\n",
        "    self.head=None\n",
        "\n",
        "  def show(self):\n",
        "    node=self.head\n",
        "    while node is not None:\n",
        "      print(node.data)\n",
        "      node=node.next\n",
        "      \n",
        "  def add(self,new):\n",
        "    new_node=Node(new)\n",
        "    new_node.next=self.head  \n",
        "    self.head=new_node \n",
        "\n",
        "  def search(self, x):\n",
        "    current = self.head\n",
        "    while current != None:\n",
        "      if current.data == x:\n",
        "        return True\n",
        "        current = current.next\n",
        "      return False  \n",
        "  def show(self):\n",
        "    node=self.head\n",
        "    while node is not None:\n",
        "      print(node.data)\n",
        "      node=node.next\n",
        "  def renameElement(self, old_element, new_element):\n",
        "    current = self.head\n",
        "    while current is not None:     \n",
        "      if current.data == old_element:\n",
        "        current.data = new_element\n",
        "        break\n",
        "      current = current.next       \n",
        "\n",
        "link=Linked()\n",
        "\n",
        "elem=Node('lastname:s')\n",
        "link.head=elem\n",
        "elem2=Node('hobby:reding')\n",
        "link.head.next=elem2\n",
        "elem3=Node('phonenumber:9886349662')\n",
        "elem2.next=elem3\n",
        "link.add(\"firstname:sumayya\")\n",
        "\n",
        "if link.search(\"firstname:sumayya\"):\n",
        "    print(\"yes searched succesfully\")  \n",
        "else:\n",
        "    print(\"No\")\n",
        "link.renameElement('firstname:sumayya','firstname:syeda')\n",
        "link.show()    \n",
        "\n",
        "\n"
      ],
      "metadata": {
        "colab": {
          "base_uri": "https://localhost:8080/"
        },
        "id": "UUENnf7xjL7F",
        "outputId": "56faa3e4-823c-4f16-943f-37a54877efeb"
      },
      "execution_count": 103,
      "outputs": [
        {
          "output_type": "stream",
          "name": "stdout",
          "text": [
            "yes searched succesfully\n",
            "firstname:syeda\n",
            "lastname:s\n",
            "hobby:reding\n",
            "phonenumber:9886349662\n"
          ]
        }
      ]
    },
    {
      "cell_type": "markdown",
      "source": [
        "#3 Perform deduplication-means all duplicates should be removed"
      ],
      "metadata": {
        "id": "aaJOKD8klm0F"
      }
    },
    {
      "cell_type": "code",
      "source": [
        "class Node:\n",
        "  def __init__(self,data=None):\n",
        "    self.data=data\n",
        "    self.next=None\n",
        "class Linked:\n",
        "  def __init__(self):\n",
        "    self.head=None \n",
        "\n",
        "  def show(self):\n",
        "    self.head=None\n",
        "\n",
        "  def show(self):\n",
        "    node=self.head\n",
        "    while node is not None:\n",
        "      print(node.data)\n",
        "      node=node.next\n",
        "\n",
        "  def remove_dup(self):\n",
        "    curr=self.head\n",
        "    glist=[]    #variable                    \n",
        "    while curr:\n",
        "      if curr.data in glist:        \n",
        "        prev.next=curr.next\n",
        "      else:\n",
        "        glist.append(curr.data)\n",
        "        prev=curr\n",
        "      curr=curr.next  \n",
        "      \n",
        "\n",
        "link=Linked()\n",
        "\n",
        "elem=Node('firstname:sumayya')\n",
        "link.head=elem\n",
        "elem2=Node('hobby:reding')\n",
        "link.head.next=elem2\n",
        "elem3=Node('firstname:sumayya')\n",
        "elem2.next=elem3\n",
        "elem4=Node('phonenumber:9886349662')\n",
        "elem3.next=elem4\n",
        "link.remove_dup()\n",
        "\n",
        "\n",
        "link.show()    "
      ],
      "metadata": {
        "colab": {
          "base_uri": "https://localhost:8080/"
        },
        "id": "lEkydj_Plney",
        "outputId": "ebee6a01-b503-47d0-bca6-3f068e8afb3c"
      },
      "execution_count": 75,
      "outputs": [
        {
          "output_type": "stream",
          "name": "stdout",
          "text": [
            "firstname:sumayya\n",
            "hobby:reding\n",
            "phonenumber:9886349662\n"
          ]
        }
      ]
    },
    {
      "cell_type": "markdown",
      "source": [
        "# 4.Reverse the list"
      ],
      "metadata": {
        "id": "kNQ8mZUaq6Rh"
      }
    },
    {
      "cell_type": "code",
      "source": [
        "class Node:\n",
        "  def __init__(self,data=None):\n",
        "    self.data=data\n",
        "    self.next=None\n",
        "class Linked:\n",
        "  def __init__(self):\n",
        "    self.head=None \n",
        "\n",
        "  def show(self):\n",
        "    self.head=None\n",
        "\n",
        "  def show(self):\n",
        "    node=self.head\n",
        "    while node is not None:\n",
        "      print(node.data)\n",
        "      node=node.next  \n",
        "\n",
        "  def reverse(self):\n",
        "        prev = None\n",
        "        current = self.head\n",
        "        while(current is not None):\n",
        "            next = current.next\n",
        "            current.next = prev\n",
        "            prev = current\n",
        "            current = next\n",
        "        self.head = prev\n",
        "    \n",
        "\n",
        "link=Linked()\n",
        "\n",
        "elem=Node('firstname:sumayya')\n",
        "link.head=elem\n",
        "elem2=Node('hobby:reading')\n",
        "link.head.next=elem2\n",
        "elem3=Node('phonenumber:9886349662')\n",
        "elem2.next=elem3\n",
        "link.reverse()\n",
        "link.show()    \n",
        "\n"
      ],
      "metadata": {
        "colab": {
          "base_uri": "https://localhost:8080/"
        },
        "id": "MCEd90EUtAD2",
        "outputId": "5e035a4e-1434-4000-ced6-6035ddcea8cc"
      },
      "execution_count": 93,
      "outputs": [
        {
          "output_type": "stream",
          "name": "stdout",
          "text": [
            "phonenumber:9886349662\n",
            "hobby:reading\n",
            "firstname:sumayya\n"
          ]
        }
      ]
    }
  ]
}