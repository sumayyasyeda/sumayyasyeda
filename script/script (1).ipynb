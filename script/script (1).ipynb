{
  "nbformat": 4,
  "nbformat_minor": 0,
  "metadata": {
    "colab": {
      "provenance": [],
      "collapsed_sections": []
    },
    "kernelspec": {
      "name": "python3",
      "display_name": "Python 3"
    },
    "language_info": {
      "name": "python"
    }
  },
  "cells": [
    {
      "cell_type": "code",
      "execution_count": 14,
      "metadata": {
        "colab": {
          "base_uri": "https://localhost:8080/"
        },
        "id": "eaoLbwr-Uv-r",
        "outputId": "ce9465a8-270d-40d1-a0a1-623a9b325247"
      },
      "outputs": [
        {
          "output_type": "stream",
          "name": "stdout",
          "text": [
            "Writing 1.py\n"
          ]
        }
      ],
      "source": [
        "%%writefile 1.py\n",
        "print(\"Printing current and previous number and their sum in a range(10)\")\n",
        "previous_num = 0\n",
        "for i in range(1, 11):\n",
        "    x_sum = previous_num + i\n",
        "    print(\"Current Number\", i, \"Previous Number \", previous_num, \" Sum: \", previous_num + i)\n",
        "    previous_num = i"
      ]
    },
    {
      "cell_type": "code",
      "source": [
        "%%writefile 2.py\n",
        "arr = list()\n",
        "print(end=\"Enter the Size: \")\n",
        "Size = int(input())\n",
        "print(\"Enter Elements: \")\n",
        "for i in range(Size):\n",
        "  arr.insert(i, input())\n",
        "\n",
        "print(end=\"\\n\\nElements at Even Position (Index): \")\n",
        "for i in range(Size):\n",
        "  if i%2==0:\n",
        "    print(end=str(arr[i])+ \" \")\n",
        "print()"
      ],
      "metadata": {
        "colab": {
          "base_uri": "https://localhost:8080/"
        },
        "id": "laNnvWQEVU9N",
        "outputId": "cb862428-4944-4263-a048-8b59dab9f7d1"
      },
      "execution_count": 15,
      "outputs": [
        {
          "output_type": "stream",
          "name": "stdout",
          "text": [
            "Writing 2.py\n"
          ]
        }
      ]
    },
    {
      "cell_type": "code",
      "source": [
        "%%writefile 3.py\n",
        "nums = []\n",
        "print(\"Enter the Numbers :\")\n",
        "for i in range(5):\n",
        "    nums.insert(i, int(input()))\n",
        "print(\"number divisible by 5\")\n",
        "for num in nums:\n",
        "      if num % 5 == 0:\n",
        "           print(num)  "
      ],
      "metadata": {
        "colab": {
          "base_uri": "https://localhost:8080/"
        },
        "id": "P2m3E4QsXQaY",
        "outputId": "139fa812-f3cf-41f1-e77e-d86167e1fd0e"
      },
      "execution_count": 16,
      "outputs": [
        {
          "output_type": "stream",
          "name": "stdout",
          "text": [
            "Writing 3.py\n"
          ]
        }
      ]
    },
    {
      "cell_type": "code",
      "source": [
        "%%writefile 4.py\n",
        "n=int(input(\"Enter the number:\"))\n",
        "temp=n\n",
        "rev=0\n",
        "while(n>0):\n",
        "    dig=n%10\n",
        "    rev=rev*10+dig\n",
        "    n=n//10\n",
        "if(temp==rev):\n",
        "    print(\"The number is a palindrome!\")\n",
        "else:\n",
        "    print(\"The number isn't a palindrome!\")"
      ],
      "metadata": {
        "colab": {
          "base_uri": "https://localhost:8080/"
        },
        "id": "aacLvm_lZFVQ",
        "outputId": "e666b3d9-3543-46de-811c-b632b71282a7"
      },
      "execution_count": 17,
      "outputs": [
        {
          "output_type": "stream",
          "name": "stdout",
          "text": [
            "Writing 4.py\n"
          ]
        }
      ]
    },
    {
      "cell_type": "code",
      "source": [
        "%%writefile 5.py\n",
        "from numpy import array\n",
        "a=array([1,2,3,4,5,6]) # evens from here\n",
        "b=array([7,8,9,10,11,12]) # odds from here\n",
        "\n",
        "c = [*a[a%2 == 0], *b[b%2 != 0]]\n",
        "print(c)"
      ],
      "metadata": {
        "colab": {
          "base_uri": "https://localhost:8080/"
        },
        "id": "myLrFKwHZjB8",
        "outputId": "8ca44f5e-c999-4486-def4-ea924f7c0302"
      },
      "execution_count": 18,
      "outputs": [
        {
          "output_type": "stream",
          "name": "stdout",
          "text": [
            "Writing 5.py\n"
          ]
        }
      ]
    },
    {
      "cell_type": "code",
      "source": [
        "%%writefile 6.py\n",
        "n = int(input('enter the number here :'))\n",
        "while(n != 0):\n",
        "  p = n%10\n",
        "  n = n//10\n",
        "  print(p , end = '')"
      ],
      "metadata": {
        "colab": {
          "base_uri": "https://localhost:8080/"
        },
        "id": "PHoXu87VbLzP",
        "outputId": "415df9e2-294a-4882-a6e4-8b424b064cac"
      },
      "execution_count": 19,
      "outputs": [
        {
          "output_type": "stream",
          "name": "stdout",
          "text": [
            "Writing 6.py\n"
          ]
        }
      ]
    },
    {
      "cell_type": "code",
      "source": [
        "%%writefile 7.py\n",
        "for i in range(1,11):\n",
        "    print(\"\\n\\nMULTIPLICATION TABLE FOR %d\\n\" %(i))\n",
        "    for j in range(1,11):\n",
        "        print(\"%-5d X %5d = %5d\" % (i, j, i*j))"
      ],
      "metadata": {
        "colab": {
          "base_uri": "https://localhost:8080/"
        },
        "id": "X0VTpEj-aYTr",
        "outputId": "8d194831-013a-4fbd-eda0-8715a65cd48f"
      },
      "execution_count": 20,
      "outputs": [
        {
          "output_type": "stream",
          "name": "stdout",
          "text": [
            "Writing 7.py\n"
          ]
        }
      ]
    },
    {
      "cell_type": "code",
      "source": [
        "%%writefile 8.py\n",
        "rows = int(input(\"Enter number of rows: \"))\n",
        "\n",
        "for i in range(rows, 0, -1):\n",
        "    for j in range(0, i):\n",
        "        print(\"* \", end=\" \")\n",
        "    \n",
        "    print(\"\\n\")"
      ],
      "metadata": {
        "colab": {
          "base_uri": "https://localhost:8080/"
        },
        "id": "p36ISDToa3Zv",
        "outputId": "31502bee-c857-4f24-de9a-f8eb92dc3928"
      },
      "execution_count": 21,
      "outputs": [
        {
          "output_type": "stream",
          "name": "stdout",
          "text": [
            "Writing 8.py\n"
          ]
        }
      ]
    }
  ]
}