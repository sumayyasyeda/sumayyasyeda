{
  "nbformat": 4,
  "nbformat_minor": 0,
  "metadata": {
    "colab": {
      "provenance": [],
      "collapsed_sections": [],
      "authorship_tag": "ABX9TyOAm5WX1q9daMPxKUwOY8nS",
      "include_colab_link": true
    },
    "kernelspec": {
      "name": "python3",
      "display_name": "Python 3"
    },
    "language_info": {
      "name": "python"
    }
  },
  "cells": [
    {
      "cell_type": "markdown",
      "metadata": {
        "id": "view-in-github",
        "colab_type": "text"
      },
      "source": [
        "<a href=\"https://colab.research.google.com/github/sumayyasyeda/sumayyasyeda/blob/main/function_exercise_1.ipynb\" target=\"_parent\"><img src=\"https://colab.research.google.com/assets/colab-badge.svg\" alt=\"Open In Colab\"/></a>"
      ]
    },
    {
      "cell_type": "code",
      "execution_count": 2,
      "metadata": {
        "colab": {
          "base_uri": "https://localhost:8080/"
        },
        "id": "LAxuulbqLwd0",
        "outputId": "1191083e-6543-46e9-9a69-3e8edc91df03"
      },
      "outputs": [
        {
          "output_type": "stream",
          "name": "stdout",
          "text": [
            "1\n",
            "(2, 4, 5)\n"
          ]
        }
      ],
      "source": [
        "#Create a function in such a way that we can pass any number of \n",
        "#arguments to this function, and the function should process them and display each argument’s value \n",
        "def E1(a,*b):\n",
        "  print(a)\n",
        "  print(b)\n",
        "E1(1,2,4,5)  "
      ]
    },
    {
      "cell_type": "code",
      "source": [
        "\n",
        "#Write a program to create function calculation() such that it can accept two variables and calculate addition and subtraction. Also, it must return both addition and subtraction in a single return call.\n",
        "def cal(a,b):\n",
        "  add=a+b\n",
        "  sub=a-b\n",
        "  return (add,sub)"
      ],
      "metadata": {
        "id": "uJdkYD6cM-IR"
      },
      "execution_count": 5,
      "outputs": []
    },
    {
      "cell_type": "code",
      "source": [
        "cal(a=8,b=4)"
      ],
      "metadata": {
        "colab": {
          "base_uri": "https://localhost:8080/"
        },
        "id": "oqi2A7cQNT3V",
        "outputId": "1c9808b9-a259-491d-ff56-4e533c44cb8b"
      },
      "execution_count": 6,
      "outputs": [
        {
          "output_type": "execute_result",
          "data": {
            "text/plain": [
              "(12, 4)"
            ]
          },
          "metadata": {},
          "execution_count": 6
        }
      ]
    },
    {
      "cell_type": "code",
      "source": [
        "#Write a program to create a function show_employee() using the following conditions.\n",
        "def show_employee(name,salary=9000):\n",
        "  print(name,salary)"
      ],
      "metadata": {
        "id": "N8g7DAKMOMgq"
      },
      "execution_count": 10,
      "outputs": []
    },
    {
      "cell_type": "code",
      "source": [
        "show_employee(\"sumayya\",12342)"
      ],
      "metadata": {
        "colab": {
          "base_uri": "https://localhost:8080/"
        },
        "id": "5tHc10_BPnvq",
        "outputId": "68bb9598-9419-4b68-dd3a-cad41e50e08f"
      },
      "execution_count": 11,
      "outputs": [
        {
          "output_type": "stream",
          "name": "stdout",
          "text": [
            "sumayya 12342\n"
          ]
        }
      ]
    },
    {
      "cell_type": "code",
      "source": [
        "show_employee(\"sumayya\")"
      ],
      "metadata": {
        "colab": {
          "base_uri": "https://localhost:8080/"
        },
        "id": "pt_2f0KNPxsY",
        "outputId": "77067de1-0098-4ec6-97c7-e5a4630ecded"
      },
      "execution_count": 12,
      "outputs": [
        {
          "output_type": "stream",
          "name": "stdout",
          "text": [
            "sumayya 9000\n"
          ]
        }
      ]
    },
    {
      "cell_type": "markdown",
      "source": [
        "4. Create an outer function that will accept two parameters, a and b, Create an inner function inside an outer function that will calculate the addition of a and b, At last, an outer function will add 5 into addition and return it"
      ],
      "metadata": {
        "id": "rEnuB_qkSJeI"
      }
    },
    {
      "cell_type": "code",
      "source": [
        "def outer(a,b):\n",
        "  def add(a,b):\n",
        "    return a+b      \n",
        "  s=add(a,b)+5\n",
        "  return s   \n"
      ],
      "metadata": {
        "id": "cEUFKLT8P_gP"
      },
      "execution_count": 14,
      "outputs": []
    },
    {
      "cell_type": "code",
      "source": [
        "outer(5,5)"
      ],
      "metadata": {
        "colab": {
          "base_uri": "https://localhost:8080/"
        },
        "id": "Q8VvCIdWRdJb",
        "outputId": "b26da02d-6a8e-41d6-a60e-57d256063a7f"
      },
      "execution_count": 18,
      "outputs": [
        {
          "output_type": "execute_result",
          "data": {
            "text/plain": [
              "15"
            ]
          },
          "metadata": {},
          "execution_count": 18
        }
      ]
    }
  ]
}