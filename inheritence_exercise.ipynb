{
  "nbformat": 4,
  "nbformat_minor": 0,
  "metadata": {
    "colab": {
      "provenance": [],
      "authorship_tag": "ABX9TyPPZrXhqmkUnp3Hd1WzrWuy",
      "include_colab_link": true
    },
    "kernelspec": {
      "name": "python3",
      "display_name": "Python 3"
    },
    "language_info": {
      "name": "python"
    }
  },
  "cells": [
    {
      "cell_type": "markdown",
      "metadata": {
        "id": "view-in-github",
        "colab_type": "text"
      },
      "source": [
        "<a href=\"https://colab.research.google.com/github/sumayyasyeda/sumayyasyeda/blob/main/inheritence_exercise.ipynb\" target=\"_parent\"><img src=\"https://colab.research.google.com/assets/colab-badge.svg\" alt=\"Open In Colab\"/></a>"
      ]
    },
    {
      "cell_type": "code",
      "execution_count": 43,
      "metadata": {
        "colab": {
          "base_uri": "https://localhost:8080/"
        },
        "id": "4YgP_srtJC6c",
        "outputId": "50e0358e-50ff-47f4-9793-eac5b97c4648"
      },
      "outputs": [
        {
          "output_type": "stream",
          "name": "stdout",
          "text": [
            "hero 220 20\n"
          ]
        }
      ],
      "source": [
        "#1.Write a Python program to create a Vehicle class with name, max_speed and mileage instance attributes.\n",
        "\n",
        "class Vehicle:\n",
        "    def __init__(self,name, max_speed, mileage):\n",
        "      self.name=name\n",
        "      self.max_speed = max_speed\n",
        "      self.mileage = mileage\n",
        "\n",
        "X= Vehicle(\"hero\",220, 20)\n",
        "print(X.name,X.max_speed, X.mileage)"
      ]
    },
    {
      "cell_type": "code",
      "source": [
        "#2.For the same problem statement 1, Define a property that must have the same value for every class instance (object)\n",
        "\n",
        "class bike(Vehicle):\n",
        "  pass\n",
        "\n",
        "class Car(Vehicle):\n",
        "  pass\n"
      ],
      "metadata": {
        "id": "Jdq1CCxUKhsq"
      },
      "execution_count": 44,
      "outputs": []
    },
    {
      "cell_type": "code",
      "source": [
        "X= Vehicle(\"hero\",220, 20)\n",
        "print(X.name,X.max_speed, X.mileage)\n",
        "\n",
        "bike= Vehicle(\"honda dio\",120, 10)\n",
        "print(bike.name,bike.max_speed, bike.mileage)\n",
        "\n",
        "car=Vehicle(\"suzuki\",240, 30)\n",
        "print(car.name,car.max_speed, car.mileage)"
      ],
      "metadata": {
        "colab": {
          "base_uri": "https://localhost:8080/"
        },
        "id": "oY87WxJpL8Wk",
        "outputId": "29e380a5-3158-46d4-f9cd-1861e45debcd"
      },
      "execution_count": 45,
      "outputs": [
        {
          "output_type": "stream",
          "name": "stdout",
          "text": [
            "hero 220 20\n",
            "honda dio 120 10\n",
            "suzuki 240 30\n"
          ]
        }
      ]
    },
    {
      "cell_type": "code",
      "source": [
        "#3.Create a child class 'Bus' that will inherit all of the variables and methods of the Vehicle class\n",
        "\n",
        "class Vehicle:\n",
        "    def __init__(self,name, max_speed, mileage):\n",
        "      self.name=name\n",
        "      self.max_speed = max_speed\n",
        "      self.mileage = mileage\n",
        "\n",
        "class Bus(Vehicle):\n",
        "  pass\n",
        "\n",
        "bus = Bus(\"collegebus\", 130, 22)\n",
        "print(\"name:\",bus.name,\"speed:\",bus.max_speed,\"mileage:\",bus.mileage)"
      ],
      "metadata": {
        "colab": {
          "base_uri": "https://localhost:8080/"
        },
        "id": "FRCOJCTSMSH4",
        "outputId": "2bde0247-f7cb-4ad7-becf-06dc78729275"
      },
      "execution_count": 58,
      "outputs": [
        {
          "output_type": "stream",
          "name": "stdout",
          "text": [
            "name: collegebus speed: 130 mileage: 22\n"
          ]
        }
      ]
    },
    {
      "cell_type": "code",
      "source": [
        "#4.create an object for child class i.e Bus and check whether the object is an instance of the Vehicle Class\n",
        "\n",
        "bus = Bus(\"collegebus\", 130, 22)\n",
        "print(isinstance(bus,Vehicle))\n"
      ],
      "metadata": {
        "colab": {
          "base_uri": "https://localhost:8080/"
        },
        "id": "Bo_1gpM2N8XY",
        "outputId": "fb5e0dd4-bec5-408e-d816-dda12a0a4b16"
      },
      "execution_count": 56,
      "outputs": [
        {
          "output_type": "stream",
          "name": "stdout",
          "text": [
            "True\n"
          ]
        }
      ]
    },
    {
      "cell_type": "code",
      "source": [
        "#5. Check whether Bus class is a subclass of Vehicle class\n",
        "\n",
        "print(issubclass(Bus, Vehicle))\n"
      ],
      "metadata": {
        "colab": {
          "base_uri": "https://localhost:8080/"
        },
        "id": "EaWVbMfkQoC2",
        "outputId": "49c5f355-a86a-4c24-d7cd-a9f1fcfa0ca2"
      },
      "execution_count": 36,
      "outputs": [
        {
          "output_type": "stream",
          "name": "stdout",
          "text": [
            "True\n"
          ]
        }
      ]
    },
    {
      "cell_type": "code",
      "source": [
        "#Create an empty class called Car, check whether Car is a sub class of Vehicle Class\n",
        "\n",
        "class car():\n",
        "  pass\n",
        "\n",
        "print(issubclass(car,Vehicle))        "
      ],
      "metadata": {
        "colab": {
          "base_uri": "https://localhost:8080/"
        },
        "id": "TcNWZOtaRtH9",
        "outputId": "5258c0b8-601a-4cfd-afdc-bcebb9608d96"
      },
      "execution_count": 46,
      "outputs": [
        {
          "output_type": "stream",
          "name": "stdout",
          "text": [
            "False\n"
          ]
        }
      ]
    }
  ]
}