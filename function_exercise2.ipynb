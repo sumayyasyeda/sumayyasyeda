{
  "nbformat": 4,
  "nbformat_minor": 0,
  "metadata": {
    "colab": {
      "provenance": [],
      "authorship_tag": "ABX9TyOVPTsgKul61fZ3Qxx6vWZ8",
      "include_colab_link": true
    },
    "kernelspec": {
      "name": "python3",
      "display_name": "Python 3"
    },
    "language_info": {
      "name": "python"
    }
  },
  "cells": [
    {
      "cell_type": "markdown",
      "metadata": {
        "id": "view-in-github",
        "colab_type": "text"
      },
      "source": [
        "<a href=\"https://colab.research.google.com/github/sumayyasyeda/sumayyasyeda/blob/main/function_exercise2.ipynb\" target=\"_parent\"><img src=\"https://colab.research.google.com/assets/colab-badge.svg\" alt=\"Open In Colab\"/></a>"
      ]
    },
    {
      "cell_type": "markdown",
      "source": [
        "Write a Python function that accepts a string and calculate the number of upper case letters and lower case letters "
      ],
      "metadata": {
        "id": "4Ry4YTG3z25v"
      }
    },
    {
      "cell_type": "code",
      "source": [
        "def low_up(s):\n",
        "  UPPER=0\n",
        "  LOWER=0\n",
        "  for c in s:\n",
        "    if c.isupper():\n",
        "      UPPER+=1\n",
        "    elif c.islower():\n",
        "      LOWER+=1\n",
        "  return(UPPER, LOWER)     \n",
        "   \n",
        "name=input(\"enter ur name\")   \n",
        "low_up(name)\n"
      ],
      "metadata": {
        "colab": {
          "base_uri": "https://localhost:8080/"
        },
        "id": "qK7Cf1SVz6ZC",
        "outputId": "4978315f-c42b-4cec-a616-1abc3226417f"
      },
      "execution_count": 8,
      "outputs": [
        {
          "name": "stdout",
          "output_type": "stream",
          "text": [
            "enter ur namemy NAME is SUMayya\n"
          ]
        },
        {
          "output_type": "execute_result",
          "data": {
            "text/plain": [
              "(7, 8)"
            ]
          },
          "metadata": {},
          "execution_count": 8
        }
      ]
    },
    {
      "cell_type": "markdown",
      "source": [
        "Write a Python function to check whether a string is a pangram or not"
      ],
      "metadata": {
        "id": "UVj5adMj1had"
      }
    },
    {
      "cell_type": "code",
      "source": [
        "import string\n",
        "  \n",
        "def ispangram(s):\n",
        "    alphabet = \"abcdefghijklmnopqrstuvwxyz\"\n",
        "    for x in alphabet:\n",
        "        if x not in s.lower():\n",
        "            return False\n",
        "  \n",
        "    return True\n",
        "      \n",
        "# Driver code\n",
        "string = 'the quick brown fox jumps over the lazy dog'\n",
        "if(ispangram(string) == True):\n",
        "    print(\"Yes\")\n",
        "else:\n",
        "    print(\"No\")"
      ],
      "metadata": {
        "colab": {
          "base_uri": "https://localhost:8080/"
        },
        "id": "3rSpsMoJ1eVu",
        "outputId": "4e3371a1-2d91-46e4-8b67-998414bf199a"
      },
      "execution_count": 13,
      "outputs": [
        {
          "output_type": "stream",
          "name": "stdout",
          "text": [
            "Yes\n"
          ]
        }
      ]
    },
    {
      "cell_type": "markdown",
      "source": [
        " Write a Python function that takes a number as a parameter and check the number is prime or not."
      ],
      "metadata": {
        "id": "ay3JUEw32UdA"
      }
    },
    {
      "cell_type": "code",
      "source": [
        "def test_prime(n):\n",
        "    if (n==1):\n",
        "        return False\n",
        "    elif (n==2):\n",
        "        return True;\n",
        "    else:\n",
        "        for x in range(2,n):\n",
        "            if(n % x==0):\n",
        "                return False\n",
        "        return True             \n",
        "print(test_prime(9))\n",
        " "
      ],
      "metadata": {
        "colab": {
          "base_uri": "https://localhost:8080/"
        },
        "id": "neCzwhaW2ppo",
        "outputId": "01d51074-40ba-4e0d-e5fd-b788d63bdd33"
      },
      "execution_count": 21,
      "outputs": [
        {
          "output_type": "stream",
          "name": "stdout",
          "text": [
            "False\n"
          ]
        }
      ]
    },
    {
      "cell_type": "markdown",
      "source": [
        "-or-"
      ],
      "metadata": {
        "id": "hh06JIhb5Ab_"
      }
    },
    {
      "cell_type": "code",
      "source": [
        "number = int(input(\"Enter any number: \"))\n",
        "\n",
        "\n",
        "if number > 1:\n",
        "    for i in range(2, number):\n",
        "        if (number % i) == 0:\n",
        "            print(number, \"is not a prime number\")\n",
        "            break\n",
        "    else:\n",
        "        print(number, \"is a prime number\")\n",
        "else:\n",
        "    print(number, \"is not a prime number\")"
      ],
      "metadata": {
        "colab": {
          "base_uri": "https://localhost:8080/"
        },
        "id": "5dth-9L44uN5",
        "outputId": "462c3013-60b7-404a-c3fd-6c9cf55051ca"
      },
      "execution_count": 20,
      "outputs": [
        {
          "output_type": "stream",
          "name": "stdout",
          "text": [
            "Enter any number: 13\n",
            "13 is a prime number\n"
          ]
        }
      ]
    },
    {
      "cell_type": "markdown",
      "source": [
        " Write a Python function to check whether a number is perfect or not"
      ],
      "metadata": {
        "id": "F4y6Uah25FtL"
      }
    },
    {
      "cell_type": "code",
      "source": [
        "def perfect(n):\n",
        "    perfect_sum = 0\n",
        "    \n",
        "    for i in range(1,n):\n",
        "      if n%i==0:\n",
        "        perfect_sum += i\n",
        "\n",
        "    return perfect_sum == n\n",
        "number = int(input('Enter number: '))\n",
        "if perfect(number):\n",
        "    print('%d is PERFECT' %(number))\n",
        "else:\n",
        "    print('%d is NOT PERFECT' %(number))"
      ],
      "metadata": {
        "colab": {
          "base_uri": "https://localhost:8080/"
        },
        "id": "HziLZZne5HKv",
        "outputId": "4facbebb-52a0-435a-ca99-8a9476aab821"
      },
      "execution_count": 26,
      "outputs": [
        {
          "output_type": "stream",
          "name": "stdout",
          "text": [
            "Enter number: 496\n",
            "496 is PERFECT\n"
          ]
        }
      ]
    }
  ]
}