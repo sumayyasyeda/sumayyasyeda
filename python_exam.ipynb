{
  "nbformat": 4,
  "nbformat_minor": 0,
  "metadata": {
    "colab": {
      "provenance": [],
      "collapsed_sections": [],
      "authorship_tag": "ABX9TyP9t60u5099gNkuy3/kBFDC",
      "include_colab_link": true
    },
    "kernelspec": {
      "name": "python3",
      "display_name": "Python 3"
    },
    "language_info": {
      "name": "python"
    }
  },
  "cells": [
    {
      "cell_type": "markdown",
      "metadata": {
        "id": "view-in-github",
        "colab_type": "text"
      },
      "source": [
        "<a href=\"https://colab.research.google.com/github/sumayyasyeda/sumayyasyeda/blob/main/python_exam.ipynb\" target=\"_parent\"><img src=\"https://colab.research.google.com/assets/colab-badge.svg\" alt=\"Open In Colab\"/></a>"
      ]
    },
    {
      "cell_type": "markdown",
      "source": [
        "1. Input 20 numbers from the user,\n",
        "   conduct linear search after taking a  number from the user"
      ],
      "metadata": {
        "id": "Bv8Xivd33PyP"
      }
    },
    {
      "cell_type": "code",
      "source": [
        "#Conduct linear serach after taking a number from the user\n",
        "arr = []\n",
        "for i in range(20):\n",
        "  arr.insert(i, int(input()))\n",
        "print(\"Enter the Number to Search: \")\n",
        "num = int(input())\n",
        "for i in range(20):\n",
        "  if num==arr[i]:\n",
        "    index = i\n",
        "    break\n",
        "print(\"\\nNumber Found at Index Number: \")\n",
        "print(index)"
      ],
      "metadata": {
        "colab": {
          "base_uri": "https://localhost:8080/"
        },
        "id": "MbqEyY0m78NL",
        "outputId": "6267b045-1a2a-4b09-8747-c20ae47e6913"
      },
      "execution_count": null,
      "outputs": [
        {
          "output_type": "stream",
          "name": "stdout",
          "text": [
            "Enter 20 Numbers: \n",
            "1\n",
            "2\n",
            "3\n",
            "4\n",
            "5\n",
            "6\n",
            "7\n",
            "8\n",
            "9\n",
            "1\n",
            "5\n",
            "2\n",
            "3\n",
            "4\n",
            "5\n",
            "6\n",
            "7\n",
            "8\n",
            "9\n",
            "4\n",
            "Enter the Number to Search: \n",
            "9\n",
            "\n",
            "Number Found at Index Number: \n",
            "8\n"
          ]
        }
      ]
    },
    {
      "cell_type": "code",
      "source": [
        "# Conduct binary search after taking a number from the user\n",
        "\n",
        "nums = []\n",
        "print(\"Enter 20 Numbers :\")\n",
        "for i in range(20):\n",
        "    nums.insert(i, int(input()))\n",
        "print(\"Enter a Number to Search:\")\n",
        "search = int(input())\n",
        "first = 0\n",
        "last = 19\n",
        "middle = (first+last)/2\n",
        "middle = int(middle)\n",
        "while first <= last:\n",
        "    if nums[middle]<search:\n",
        "        first = middle+1\n",
        "    elif nums[middle]==search:\n",
        "        print(\"The Number Found at Position:\")\n",
        "        print(middle+1)\n",
        "        break\n",
        "    else:\n",
        "        last = middle-1\n",
        "    middle = (first+last)/2\n",
        "    middle = int(middle)\n",
        "if first>last:\n",
        "    print(\"The Number is not Found in the List\")"
      ],
      "metadata": {
        "colab": {
          "base_uri": "https://localhost:8080/"
        },
        "id": "RiPF7UcNDxrI",
        "outputId": "8c1a3495-b98d-49bf-87b2-afe5afda799b"
      },
      "execution_count": null,
      "outputs": [
        {
          "output_type": "stream",
          "name": "stdout",
          "text": [
            "Enter 20 Numbers :\n",
            "2\n",
            "3\n",
            "4\n",
            "5\n",
            "6\n",
            "7\n",
            "8\n",
            "9\n",
            "10\n",
            "12\n",
            "13\n",
            "14\n",
            "15\n",
            "16\n",
            "17\n",
            "18\n",
            "19\n",
            "20\n",
            "21\n",
            "22\n",
            "Enter a Number to Search:\n",
            "4\n",
            "The Number Found at Position:\n",
            "3\n"
          ]
        }
      ]
    },
    {
      "cell_type": "code",
      "source": [
        "# Conduct bubble sorting after taking a number from the user\n",
        "nums = []\n",
        "\n",
        "tot = int(input(\"Enter the Size of List:\"))\n",
        "\n",
        "print(\"Enter \" + str(tot) + \" Numbers: \")\n",
        "for i in range(tot):\n",
        "    nums.insert(i, int(input()))\n",
        "\n",
        "for i in range(tot-1):\n",
        "    for j in range(tot-i-1):\n",
        "        if nums[j]>nums[j+1]:\n",
        "            temp = nums[j]\n",
        "            nums[j] = nums[j+1]\n",
        "            nums[j+1] = temp\n",
        "\n",
        "print(\"The Sorted List is:\")\n",
        "for i in range(tot):\n",
        "    print(nums[i])"
      ],
      "metadata": {
        "colab": {
          "base_uri": "https://localhost:8080/"
        },
        "id": "iiB_0pJaG1lH",
        "outputId": "01724f46-53c9-463b-a972-2283ddfa0c5d"
      },
      "execution_count": null,
      "outputs": [
        {
          "output_type": "stream",
          "name": "stdout",
          "text": [
            "Enter the Size of List:4\n",
            "Enter 4 Numbers: \n",
            "12\n",
            "1\n",
            "43\n",
            "23\n",
            "The Sorted List is:\n",
            "1\n",
            "12\n",
            "23\n",
            "43\n"
          ]
        }
      ]
    },
    {
      "cell_type": "code",
      "source": [
        "#or taking 20 input from users\n",
        "nums = []\n",
        "\n",
        "\n",
        "print(\"Enter Numbers: \")\n",
        "for i in range(20):\n",
        "    nums.insert(i, int(input()))\n",
        "\n",
        "for i in range(20-1):\n",
        "    for j in range(20-i-1):\n",
        "        if nums[j]>nums[j+1]:\n",
        "            temp = nums[j]\n",
        "            nums[j] = nums[j+1]\n",
        "            nums[j+1] = temp\n",
        "\n",
        "print(\"The Sorted List is:\")\n",
        "for i in range(20):\n",
        "    print(nums[i])"
      ],
      "metadata": {
        "colab": {
          "base_uri": "https://localhost:8080/"
        },
        "id": "uVgCeducjZi4",
        "outputId": "c283b11c-c888-49ce-cf87-71542dd72320"
      },
      "execution_count": null,
      "outputs": [
        {
          "output_type": "stream",
          "name": "stdout",
          "text": [
            "Enter Numbers: \n",
            "1\n",
            "2\n",
            "3\n",
            "4\n",
            "55\n",
            "22\n",
            "11\n",
            "8\n",
            "2\n",
            "12\n",
            "23\n",
            "54\n",
            "43\n",
            "57\n",
            "98\n",
            "100\n",
            "24\n",
            "54\n",
            "32\n",
            "86\n",
            "The Sorted List is:\n",
            "1\n",
            "2\n",
            "2\n",
            "3\n",
            "4\n",
            "8\n",
            "11\n",
            "12\n",
            "22\n",
            "23\n",
            "24\n",
            "32\n",
            "43\n",
            "54\n",
            "54\n",
            "55\n",
            "57\n",
            "86\n",
            "98\n",
            "100\n"
          ]
        }
      ]
    },
    {
      "cell_type": "markdown",
      "source": [
        "#Explain in a paragraph what is bubble sorting?\n",
        "\n",
        "Bubble sort is a sorting algorithm that compares two adjacent elements and \n",
        "swaps them until they are in the intended order.\n",
        "\n",
        "1.Starting from the first index, we are comparing the first and the second elements.\n",
        "2.If the first element is greater than the second element, then they are swapped.\n",
        "3.Now,we are comparing  the second and the third elements. Swap them if they are not in order.\n",
        "4.The above process goes on until the last element."
      ],
      "metadata": {
        "id": "ypOFdhIfJRO9"
      }
    },
    {
      "cell_type": "code",
      "source": [
        "#5. Find mean, median and mode of the dataset.\n",
        "import numpy\n",
        "from scipy import stats\n",
        "#SciPy mode() method to find the number that appears the most\n",
        "nums=[]\n",
        "print(\"enter 20 numbers\")\n",
        "for i in range(20):\n",
        "  nums.insert(i,int(input()))\n",
        "x = numpy.mean(nums)\n",
        "y = numpy.median(nums)\n",
        "z = stats.mode(nums)\n",
        "\n",
        "print(x) \n",
        "print(y)  \n",
        "print(z)   "
      ],
      "metadata": {
        "colab": {
          "base_uri": "https://localhost:8080/"
        },
        "id": "VtpJn_rbQXPQ",
        "outputId": "bfbb220f-6788-4d77-f47b-e1eaba23d50f"
      },
      "execution_count": null,
      "outputs": [
        {
          "output_type": "stream",
          "name": "stdout",
          "text": [
            "enter 20 numbers\n",
            "5\n",
            "1\n",
            "2\n",
            "3\n",
            "4\n",
            "5\n",
            "6\n",
            "7\n",
            "8\n",
            "9\n",
            "1\n",
            "2\n",
            "3\n",
            "33\n",
            "12\n",
            "123\n",
            "34\n",
            "43\n",
            "23\n",
            "56\n",
            "19.0\n",
            "6.5\n",
            "ModeResult(mode=array([1]), count=array([2]))\n"
          ]
        }
      ]
    },
    {
      "cell_type": "code",
      "source": [
        "#-or-Find mean\n",
        "\n",
        "nums=[]\n",
        "print(\"enter 5 numbers\")\n",
        "for i in range(5):\n",
        "  nums.insert(i,int(input()))\n",
        "\n",
        "def find_mean(list_of_numbers):\n",
        "     sum_n = sum(list_of_numbers)\n",
        "     len_n = len(list_of_numbers)\n",
        "     mean = sum_n/len_n\n",
        "     return mean\n",
        "\n",
        "    \n",
        "result = find_mean(nums)  \n",
        "result"
      ],
      "metadata": {
        "colab": {
          "base_uri": "https://localhost:8080/"
        },
        "id": "XucRJr-BTw62",
        "outputId": "c639c565-cab7-414f-b168-f6dba27c2ae2"
      },
      "execution_count": null,
      "outputs": [
        {
          "name": "stdout",
          "output_type": "stream",
          "text": [
            "enter 20 numbers\n",
            "1\n",
            "2\n",
            "3\n",
            "4\n",
            "5\n"
          ]
        },
        {
          "output_type": "execute_result",
          "data": {
            "text/plain": [
              "3.0"
            ]
          },
          "metadata": {},
          "execution_count": 58
        }
      ]
    },
    {
      "cell_type": "code",
      "source": [
        "#-or- Find mean, median and mode of the dataset.\n",
        "nums=[]\n",
        "print(\"enter 20 numbers\")\n",
        "for i in range(20):\n",
        "  nums.insert(i,int(input()))\n",
        "\n",
        "mean=sum(nums)/len(nums)  \n",
        "median=sorted(nums) [len(nums)//2]\n",
        "mode=max(nums,key=nums.count)\n",
        "print(\"mean, median and mode:\")\n",
        "print(mean)\n",
        "print(median)\n",
        "print(mode)\n"
      ],
      "metadata": {
        "colab": {
          "base_uri": "https://localhost:8080/"
        },
        "id": "NLKdrINGVGWG",
        "outputId": "ca6dea3c-a22d-40ab-dca2-ff6549e96a38"
      },
      "execution_count": null,
      "outputs": [
        {
          "output_type": "stream",
          "name": "stdout",
          "text": [
            "enter 20 numbers\n",
            "2\n",
            "2\n",
            "3\n",
            "4\n",
            "5\n",
            "6\n",
            "7\n",
            "8\n",
            "9\n",
            "1\n",
            "23\n",
            "43\n",
            "56\n",
            "12\n",
            "11\n",
            "13\n",
            "14\n",
            "15\n",
            "16\n",
            "17\n",
            "mean, median and mode:\n",
            "13.35\n",
            "11\n",
            "2\n"
          ]
        }
      ]
    },
    {
      "cell_type": "code",
      "source": [
        "#6. Find all prime numbers in the list.\n",
        "\n",
        "nums=[]\n",
        "print(\"enter 5 numbers\")\n",
        "\n",
        "for i in range(5):\n",
        "  nums.insert(i,int(input()))\n",
        "\n",
        "for num in nums:\n",
        "  if num>1:\n",
        "    for j in range(2,num):\n",
        "      if(num%j)==0:\n",
        "        break\n",
        "      else:\n",
        "        print(num)\n",
        "        break\n",
        "      \n",
        "\n"
      ],
      "metadata": {
        "id": "ulxAXZ6DWYAR",
        "colab": {
          "base_uri": "https://localhost:8080/"
        },
        "outputId": "2e2952fd-5036-4035-be42-3a3994ca0443"
      },
      "execution_count": null,
      "outputs": [
        {
          "output_type": "stream",
          "name": "stdout",
          "text": [
            "enter 5 numbers\n",
            "2\n",
            "45\n",
            "67\n",
            "98\n",
            "5\n",
            "45\n",
            "67\n",
            "5\n"
          ]
        }
      ]
    },
    {
      "cell_type": "code",
      "source": [
        "#extra\n",
        "\n",
        "def linear_search(alist, key):\n",
        "   \n",
        "    for i in range(len(alist)):\n",
        "        if alist[i] == key:\n",
        "            return i\n",
        "    return -1\n",
        " \n",
        " \n",
        "alist = input('Enter the 20 list of numbers: ')\n",
        "alist = alist.split()\n",
        "alist = [int(x) for x in alist]\n",
        "key = int(input('The number to search for: '))\n",
        " \n",
        "index = linear_search(alist, key)\n",
        "if index < 0:\n",
        "    print('{} was not found.'.format(key))\n",
        "else:\n",
        "    print('{} was found at index {}.'.format(key, index))"
      ],
      "metadata": {
        "id": "pfOdb53DcnDR"
      },
      "execution_count": null,
      "outputs": []
    }
  ]
}