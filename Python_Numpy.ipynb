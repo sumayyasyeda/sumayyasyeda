{
  "nbformat": 4,
  "nbformat_minor": 0,
  "metadata": {
    "colab": {
      "provenance": [],
      "authorship_tag": "ABX9TyOuOWjGgvVjJz7FRgdpkUFs",
      "include_colab_link": true
    },
    "kernelspec": {
      "name": "python3",
      "display_name": "Python 3"
    },
    "language_info": {
      "name": "python"
    }
  },
  "cells": [
    {
      "cell_type": "markdown",
      "metadata": {
        "id": "view-in-github",
        "colab_type": "text"
      },
      "source": [
        "<a href=\"https://colab.research.google.com/github/sumayyasyeda/sumayyasyeda/blob/main/Python_Numpy.ipynb\" target=\"_parent\"><img src=\"https://colab.research.google.com/assets/colab-badge.svg\" alt=\"Open In Colab\"/></a>"
      ]
    },
    {
      "cell_type": "markdown",
      "source": [
        "The first thing we want to do is import numpy."
      ],
      "metadata": {
        "id": "J7iJ6tfHUfA1"
      }
    },
    {
      "cell_type": "code",
      "source": [
        "import numpy as np"
      ],
      "metadata": {
        "id": "H8z8QbzyUidC"
      },
      "execution_count": null,
      "outputs": []
    },
    {
      "cell_type": "markdown",
      "source": [
        "Let us first define a Python list containing the ages of 6 people."
      ],
      "metadata": {
        "id": "fO1r-vBwUpzr"
      }
    },
    {
      "cell_type": "code",
      "source": [
        "ages_list = [10, 12, 18, 2, 23, 60]\n",
        "print(ages_list)"
      ],
      "metadata": {
        "colab": {
          "base_uri": "https://localhost:8080/"
        },
        "id": "D0-Rgww-Ur4R",
        "outputId": "b59314d4-59df-4d68-cb8a-4c87db4e6804"
      },
      "execution_count": null,
      "outputs": [
        {
          "output_type": "stream",
          "name": "stdout",
          "text": [
            "[10, 12, 18, 2, 23, 60]\n"
          ]
        }
      ]
    },
    {
      "cell_type": "markdown",
      "source": [
        "There are 3 main ways to instantiate a Numpy and array object. One of these is to use np.array(<collection>)"
      ],
      "metadata": {
        "id": "royyymoAUw5o"
      }
    },
    {
      "cell_type": "code",
      "source": [
        "ages = np.array(ages_list)\n",
        "print(type(ages))\n",
        "print(ages)"
      ],
      "metadata": {
        "colab": {
          "base_uri": "https://localhost:8080/"
        },
        "id": "IUi_FFQfUy83",
        "outputId": "a4f6f97d-a0e5-4715-fd64-aade4ca05350"
      },
      "execution_count": null,
      "outputs": [
        {
          "output_type": "stream",
          "name": "stdout",
          "text": [
            "<class 'numpy.ndarray'>\n",
            "[10 12 18  2 23 60]\n"
          ]
        }
      ]
    },
    {
      "cell_type": "code",
      "source": [
        "print(ages)\n",
        "print(\"Size:\" , ages.size) #\"\\t\" is a tab,\n",
        "print(\"Shape:\\t\", ages.shape)"
      ],
      "metadata": {
        "colab": {
          "base_uri": "https://localhost:8080/"
        },
        "id": "vOWxq4_TVcYE",
        "outputId": "f38a42ce-4049-4831-c3d4-c5c79d2a2221"
      },
      "execution_count": null,
      "outputs": [
        {
          "output_type": "stream",
          "name": "stdout",
          "text": [
            "[10 12 18  2 23 60]\n",
            "Size: 6\n",
            "Shape:\t (6,)\n"
          ]
        }
      ]
    },
    {
      "cell_type": "code",
      "source": [
        "zeroArr = np.zeros(4)\n",
        "print(zeroArr)"
      ],
      "metadata": {
        "colab": {
          "base_uri": "https://localhost:8080/"
        },
        "id": "ESWphcBFVzxZ",
        "outputId": "3240d2c4-64bd-4d20-cbab-1bcc2f16c000"
      },
      "execution_count": null,
      "outputs": [
        {
          "output_type": "stream",
          "name": "stdout",
          "text": [
            "[0. 0. 0. 0.]\n"
          ]
        }
      ]
    },
    {
      "cell_type": "markdown",
      "source": [
        "**Multi-dim**"
      ],
      "metadata": {
        "id": "0waJUdScV7hT"
      }
    },
    {
      "cell_type": "markdown",
      "source": [
        "Now let us define a new list containing the weights of these 6 people."
      ],
      "metadata": {
        "id": "4olnB-AsWBEI"
      }
    },
    {
      "cell_type": "code",
      "source": [
        "weight_list = [32, 18, 26, 60, 55, 65]"
      ],
      "metadata": {
        "id": "Jiwdii7BWDjS"
      },
      "execution_count": null,
      "outputs": []
    },
    {
      "cell_type": "markdown",
      "source": [
        "Now, we define an ndarray containing all fo this information, and again print the size and shape of the array."
      ],
      "metadata": {
        "id": "0U-gfJRQWuAG"
      }
    },
    {
      "cell_type": "code",
      "source": [
        "#fetch the dimension of rows and columns-shape\n",
        "people = np.array([ages_list, weight_list])\n",
        "\n",
        "print(\"People:\\t\" , people)\n",
        "print(\"Size:\\t\" , people.size)\n",
        "print(\"Shape:\\t\", people.shape) "
      ],
      "metadata": {
        "colab": {
          "base_uri": "https://localhost:8080/"
        },
        "id": "-OYEzqwQWxpv",
        "outputId": "c50bc917-2789-4b38-b719-f41f286713a9"
      },
      "execution_count": null,
      "outputs": [
        {
          "output_type": "stream",
          "name": "stdout",
          "text": [
            "People:\t [[10 12 18  2 23 60]\n",
            " [32 18 26 60 55 65]]\n",
            "Size:\t 12\n",
            "Shape:\t (2, 6)\n"
          ]
        }
      ]
    },
    {
      "cell_type": "code",
      "source": [
        "#reshape=changing the shape of an array\n",
        "\n",
        "people = people.reshape(12,1) \n",
        "print(\"People:\\t\" , people)\n",
        "print(\"Size:\\t\" , people.size)\n",
        "print(\"Shape:\\t\", people.shape)"
      ],
      "metadata": {
        "colab": {
          "base_uri": "https://localhost:8080/"
        },
        "id": "kWDE1lTAXZLR",
        "outputId": "75ca6325-79fb-41d2-a274-687c6145447f"
      },
      "execution_count": null,
      "outputs": [
        {
          "output_type": "stream",
          "name": "stdout",
          "text": [
            "People:\t [[10]\n",
            " [12]\n",
            " [18]\n",
            " [ 2]\n",
            " [23]\n",
            " [60]\n",
            " [32]\n",
            " [18]\n",
            " [26]\n",
            " [60]\n",
            " [55]\n",
            " [65]]\n",
            "Size:\t 12\n",
            "Shape:\t (12, 1)\n"
          ]
        }
      ]
    },
    {
      "cell_type": "markdown",
      "source": [
        "**Exercise**\n",
        "Generate a 1D numpy array with the values [7, 9, 65, 33, 85, 99]"
      ],
      "metadata": {
        "id": "_d2_sfTrYpW5"
      }
    },
    {
      "cell_type": "code",
      "source": [
        "array=[7,9,65,33,85,99]\n",
        "D=np.array([array])\n",
        "print(\"1dimen \\t\",D)\n",
        "\n"
      ],
      "metadata": {
        "colab": {
          "base_uri": "https://localhost:8080/"
        },
        "id": "Rpp9bEkyY6PJ",
        "outputId": "e36a76b9-e2ac-4cc7-f31e-63325ddd63c7"
      },
      "execution_count": null,
      "outputs": [
        {
          "output_type": "stream",
          "name": "stdout",
          "text": [
            "1dimen \t [[ 7  9 65 33 85 99]]\n"
          ]
        }
      ]
    },
    {
      "cell_type": "markdown",
      "source": [
        "Generate a matrix (2D numpy array) of the values:\n",
        "\n"
      ],
      "metadata": {
        "id": "x7kfpysUbs18"
      }
    },
    {
      "cell_type": "code",
      "source": [
        "array1=np.array([[1,2,4],[2,3,0],[0,5,1]])\n",
        "print(array1)\n"
      ],
      "metadata": {
        "colab": {
          "base_uri": "https://localhost:8080/"
        },
        "id": "-VV7QmIVbz35",
        "outputId": "38fcc540-f790-4cc3-f1b4-5f29b75a0c9c"
      },
      "execution_count": null,
      "outputs": [
        {
          "output_type": "stream",
          "name": "stdout",
          "text": [
            "[[1 2 4]\n",
            " [2 3 0]\n",
            " [0 5 1]]\n"
          ]
        }
      ]
    },
    {
      "cell_type": "markdown",
      "source": [
        "Change the dimensions of this array to another permitted shape"
      ],
      "metadata": {
        "id": "7B_s_PsZfuCW"
      }
    },
    {
      "cell_type": "code",
      "source": [
        "array1 = array1.reshape(9,1)\n",
        "print(\"array\\t\",array1)"
      ],
      "metadata": {
        "colab": {
          "base_uri": "https://localhost:8080/"
        },
        "id": "3wltqGNFmgRm",
        "outputId": "2857e489-df99-4136-9a2e-2b7eaa7cc8f8"
      },
      "execution_count": null,
      "outputs": [
        {
          "output_type": "stream",
          "name": "stdout",
          "text": [
            "array\t [[1]\n",
            " [2]\n",
            " [4]\n",
            " [2]\n",
            " [3]\n",
            " [0]\n",
            " [0]\n",
            " [5]\n",
            " [1]]\n"
          ]
        }
      ]
    },
    {
      "cell_type": "markdown",
      "source": [
        "**Array Generation**\n",
        "Instead of defining an array manually, we can ask numpy to do it for us.\n",
        "\n",
        "The np.arange() method creates a range of numbers with user defined steps between each."
      ],
      "metadata": {
        "id": "WfrtZyava4hb"
      }
    },
    {
      "cell_type": "code",
      "source": [
        "numbers = np.arange(0, 40, 4)\n",
        "numbers"
      ],
      "metadata": {
        "colab": {
          "base_uri": "https://localhost:8080/"
        },
        "id": "w4tOXGjJf1kj",
        "outputId": "2e1c40e8-32ce-4942-8f3b-6c233f074245"
      },
      "execution_count": null,
      "outputs": [
        {
          "output_type": "execute_result",
          "data": {
            "text/plain": [
              "array([ 0,  4,  8, 12, 16, 20, 24, 28, 32, 36])"
            ]
          },
          "metadata": {},
          "execution_count": 51
        }
      ]
    },
    {
      "cell_type": "markdown",
      "source": [
        "The np.linspace() method will produce a range of evenly spaced values, starting, ending, and taking as many steps as you specify."
      ],
      "metadata": {
        "id": "vr5ppf_Of9xv"
      }
    },
    {
      "cell_type": "code",
      "source": [
        "five_spaced = np.linspace(0,40,9)\n",
        "print(five_spaced)"
      ],
      "metadata": {
        "colab": {
          "base_uri": "https://localhost:8080/"
        },
        "id": "ggfR992cf_NR",
        "outputId": "e80da3e2-1810-4de5-db1a-717eeedc882c"
      },
      "execution_count": null,
      "outputs": [
        {
          "output_type": "stream",
          "name": "stdout",
          "text": [
            "[ 0.  5. 10. 15. 20. 25. 30. 35. 40.]\n"
          ]
        }
      ]
    },
    {
      "cell_type": "markdown",
      "source": [
        "The .repeat() method will repeat an object you pas a specified number of times"
      ],
      "metadata": {
        "id": "VLdkZ-JHhG-t"
      }
    },
    {
      "cell_type": "code",
      "source": [
        "twoArr = np.repeat(5, 10)\n",
        "print(twoArr)"
      ],
      "metadata": {
        "colab": {
          "base_uri": "https://localhost:8080/"
        },
        "id": "XHLkdEzthMer",
        "outputId": "6ebd3821-ea91-4336-9d53-53430fefbfdf"
      },
      "execution_count": null,
      "outputs": [
        {
          "output_type": "stream",
          "name": "stdout",
          "text": [
            "[5 5 5 5 5 5 5 5 5 5]\n"
          ]
        }
      ]
    },
    {
      "cell_type": "markdown",
      "source": [
        "The np.eye() functions will create an identity matrix/array for us."
      ],
      "metadata": {
        "id": "aYpyDEtchV0r"
      }
    },
    {
      "cell_type": "code",
      "source": [
        "identity_matrix = np.eye(4)\n",
        "print(identity_matrix)"
      ],
      "metadata": {
        "colab": {
          "base_uri": "https://localhost:8080/"
        },
        "id": "ThWsCb7OhYRy",
        "outputId": "df5d31c0-b996-4a82-d6ff-c54cf8a209d2"
      },
      "execution_count": null,
      "outputs": [
        {
          "output_type": "stream",
          "name": "stdout",
          "text": [
            "[[1. 0. 0. 0.]\n",
            " [0. 1. 0. 0.]\n",
            " [0. 0. 1. 0.]\n",
            " [0. 0. 0. 1.]]\n"
          ]
        }
      ]
    },
    {
      "cell_type": "markdown",
      "source": [
        "**Operations**"
      ],
      "metadata": {
        "id": "vC9lQMwFhicL"
      }
    },
    {
      "cell_type": "markdown",
      "source": [
        "There are many, many operations which we can perform on arrays. Below, we demonstrate a few.\n",
        "\n",
        "What is happening in each line?"
      ],
      "metadata": {
        "id": "pi14SiSchkk-"
      }
    },
    {
      "cell_type": "code",
      "source": [
        "numbers\n"
      ],
      "metadata": {
        "colab": {
          "base_uri": "https://localhost:8080/"
        },
        "id": "_iGSn8Ighm20",
        "outputId": "a0d5e03a-0942-4b80-dae8-5aa4601212d4"
      },
      "execution_count": null,
      "outputs": [
        {
          "output_type": "execute_result",
          "data": {
            "text/plain": [
              "array([ 0,  4,  8, 12, 16, 20, 24, 28, 32, 36])"
            ]
          },
          "metadata": {},
          "execution_count": 55
        }
      ]
    },
    {
      "cell_type": "code",
      "source": [
        "print(\"1:\", 2 * numbers)\n",
        "print(\"2:\", 10 + numbers)\n",
        "print(\"3:\", numbers - 1)\n",
        "print(\"4:\", numbers/5)\n",
        "print(\"5:\", numbers **2)\n",
        "print(\"6:\", numbers < 20) #comparision operator"
      ],
      "metadata": {
        "colab": {
          "base_uri": "https://localhost:8080/"
        },
        "id": "H0t4W_4Vhp6K",
        "outputId": "1efd9790-f1fe-40f4-f408-6b4e7d820c85"
      },
      "execution_count": null,
      "outputs": [
        {
          "output_type": "stream",
          "name": "stdout",
          "text": [
            "1: [ 0  8 16 24 32 40 48 56 64 72]\n",
            "2: [10 14 18 22 26 30 34 38 42 46]\n",
            "3: [-1  3  7 11 15 19 23 27 31 35]\n",
            "4: [0.  0.8 1.6 2.4 3.2 4.  4.8 5.6 6.4 7.2]\n",
            "5: [   0   16   64  144  256  400  576  784 1024 1296]\n",
            "6: [ True  True  True  True  True False False False False False]\n"
          ]
        }
      ]
    },
    {
      "cell_type": "markdown",
      "source": [
        "Speed Test"
      ],
      "metadata": {
        "id": "w6bxB8pmi02u"
      }
    },
    {
      "cell_type": "markdown",
      "source": [
        "If we compare the speed at which we can do these operations compared to core python, we will notice a substantial difference."
      ],
      "metadata": {
        "id": "VqR-yLsEi2Kl"
      }
    },
    {
      "cell_type": "code",
      "source": [
        "speed = list(range(0,6001,5))\n",
        "speed"
      ],
      "metadata": {
        "colab": {
          "base_uri": "https://localhost:8080/"
        },
        "id": "GEhXOuR2i4if",
        "outputId": "430ce212-32bf-4373-fd42-dce41e4b9687"
      },
      "execution_count": null,
      "outputs": [
        {
          "output_type": "execute_result",
          "data": {
            "text/plain": [
              "[0,\n",
              " 5,\n",
              " 10,\n",
              " 15,\n",
              " 20,\n",
              " 25,\n",
              " 30,\n",
              " 35,\n",
              " 40,\n",
              " 45,\n",
              " 50,\n",
              " 55,\n",
              " 60,\n",
              " 65,\n",
              " 70,\n",
              " 75,\n",
              " 80,\n",
              " 85,\n",
              " 90,\n",
              " 95,\n",
              " 100,\n",
              " 105,\n",
              " 110,\n",
              " 115,\n",
              " 120,\n",
              " 125,\n",
              " 130,\n",
              " 135,\n",
              " 140,\n",
              " 145,\n",
              " 150,\n",
              " 155,\n",
              " 160,\n",
              " 165,\n",
              " 170,\n",
              " 175,\n",
              " 180,\n",
              " 185,\n",
              " 190,\n",
              " 195,\n",
              " 200,\n",
              " 205,\n",
              " 210,\n",
              " 215,\n",
              " 220,\n",
              " 225,\n",
              " 230,\n",
              " 235,\n",
              " 240,\n",
              " 245,\n",
              " 250,\n",
              " 255,\n",
              " 260,\n",
              " 265,\n",
              " 270,\n",
              " 275,\n",
              " 280,\n",
              " 285,\n",
              " 290,\n",
              " 295,\n",
              " 300,\n",
              " 305,\n",
              " 310,\n",
              " 315,\n",
              " 320,\n",
              " 325,\n",
              " 330,\n",
              " 335,\n",
              " 340,\n",
              " 345,\n",
              " 350,\n",
              " 355,\n",
              " 360,\n",
              " 365,\n",
              " 370,\n",
              " 375,\n",
              " 380,\n",
              " 385,\n",
              " 390,\n",
              " 395,\n",
              " 400,\n",
              " 405,\n",
              " 410,\n",
              " 415,\n",
              " 420,\n",
              " 425,\n",
              " 430,\n",
              " 435,\n",
              " 440,\n",
              " 445,\n",
              " 450,\n",
              " 455,\n",
              " 460,\n",
              " 465,\n",
              " 470,\n",
              " 475,\n",
              " 480,\n",
              " 485,\n",
              " 490,\n",
              " 495,\n",
              " 500,\n",
              " 505,\n",
              " 510,\n",
              " 515,\n",
              " 520,\n",
              " 525,\n",
              " 530,\n",
              " 535,\n",
              " 540,\n",
              " 545,\n",
              " 550,\n",
              " 555,\n",
              " 560,\n",
              " 565,\n",
              " 570,\n",
              " 575,\n",
              " 580,\n",
              " 585,\n",
              " 590,\n",
              " 595,\n",
              " 600,\n",
              " 605,\n",
              " 610,\n",
              " 615,\n",
              " 620,\n",
              " 625,\n",
              " 630,\n",
              " 635,\n",
              " 640,\n",
              " 645,\n",
              " 650,\n",
              " 655,\n",
              " 660,\n",
              " 665,\n",
              " 670,\n",
              " 675,\n",
              " 680,\n",
              " 685,\n",
              " 690,\n",
              " 695,\n",
              " 700,\n",
              " 705,\n",
              " 710,\n",
              " 715,\n",
              " 720,\n",
              " 725,\n",
              " 730,\n",
              " 735,\n",
              " 740,\n",
              " 745,\n",
              " 750,\n",
              " 755,\n",
              " 760,\n",
              " 765,\n",
              " 770,\n",
              " 775,\n",
              " 780,\n",
              " 785,\n",
              " 790,\n",
              " 795,\n",
              " 800,\n",
              " 805,\n",
              " 810,\n",
              " 815,\n",
              " 820,\n",
              " 825,\n",
              " 830,\n",
              " 835,\n",
              " 840,\n",
              " 845,\n",
              " 850,\n",
              " 855,\n",
              " 860,\n",
              " 865,\n",
              " 870,\n",
              " 875,\n",
              " 880,\n",
              " 885,\n",
              " 890,\n",
              " 895,\n",
              " 900,\n",
              " 905,\n",
              " 910,\n",
              " 915,\n",
              " 920,\n",
              " 925,\n",
              " 930,\n",
              " 935,\n",
              " 940,\n",
              " 945,\n",
              " 950,\n",
              " 955,\n",
              " 960,\n",
              " 965,\n",
              " 970,\n",
              " 975,\n",
              " 980,\n",
              " 985,\n",
              " 990,\n",
              " 995,\n",
              " 1000,\n",
              " 1005,\n",
              " 1010,\n",
              " 1015,\n",
              " 1020,\n",
              " 1025,\n",
              " 1030,\n",
              " 1035,\n",
              " 1040,\n",
              " 1045,\n",
              " 1050,\n",
              " 1055,\n",
              " 1060,\n",
              " 1065,\n",
              " 1070,\n",
              " 1075,\n",
              " 1080,\n",
              " 1085,\n",
              " 1090,\n",
              " 1095,\n",
              " 1100,\n",
              " 1105,\n",
              " 1110,\n",
              " 1115,\n",
              " 1120,\n",
              " 1125,\n",
              " 1130,\n",
              " 1135,\n",
              " 1140,\n",
              " 1145,\n",
              " 1150,\n",
              " 1155,\n",
              " 1160,\n",
              " 1165,\n",
              " 1170,\n",
              " 1175,\n",
              " 1180,\n",
              " 1185,\n",
              " 1190,\n",
              " 1195,\n",
              " 1200,\n",
              " 1205,\n",
              " 1210,\n",
              " 1215,\n",
              " 1220,\n",
              " 1225,\n",
              " 1230,\n",
              " 1235,\n",
              " 1240,\n",
              " 1245,\n",
              " 1250,\n",
              " 1255,\n",
              " 1260,\n",
              " 1265,\n",
              " 1270,\n",
              " 1275,\n",
              " 1280,\n",
              " 1285,\n",
              " 1290,\n",
              " 1295,\n",
              " 1300,\n",
              " 1305,\n",
              " 1310,\n",
              " 1315,\n",
              " 1320,\n",
              " 1325,\n",
              " 1330,\n",
              " 1335,\n",
              " 1340,\n",
              " 1345,\n",
              " 1350,\n",
              " 1355,\n",
              " 1360,\n",
              " 1365,\n",
              " 1370,\n",
              " 1375,\n",
              " 1380,\n",
              " 1385,\n",
              " 1390,\n",
              " 1395,\n",
              " 1400,\n",
              " 1405,\n",
              " 1410,\n",
              " 1415,\n",
              " 1420,\n",
              " 1425,\n",
              " 1430,\n",
              " 1435,\n",
              " 1440,\n",
              " 1445,\n",
              " 1450,\n",
              " 1455,\n",
              " 1460,\n",
              " 1465,\n",
              " 1470,\n",
              " 1475,\n",
              " 1480,\n",
              " 1485,\n",
              " 1490,\n",
              " 1495,\n",
              " 1500,\n",
              " 1505,\n",
              " 1510,\n",
              " 1515,\n",
              " 1520,\n",
              " 1525,\n",
              " 1530,\n",
              " 1535,\n",
              " 1540,\n",
              " 1545,\n",
              " 1550,\n",
              " 1555,\n",
              " 1560,\n",
              " 1565,\n",
              " 1570,\n",
              " 1575,\n",
              " 1580,\n",
              " 1585,\n",
              " 1590,\n",
              " 1595,\n",
              " 1600,\n",
              " 1605,\n",
              " 1610,\n",
              " 1615,\n",
              " 1620,\n",
              " 1625,\n",
              " 1630,\n",
              " 1635,\n",
              " 1640,\n",
              " 1645,\n",
              " 1650,\n",
              " 1655,\n",
              " 1660,\n",
              " 1665,\n",
              " 1670,\n",
              " 1675,\n",
              " 1680,\n",
              " 1685,\n",
              " 1690,\n",
              " 1695,\n",
              " 1700,\n",
              " 1705,\n",
              " 1710,\n",
              " 1715,\n",
              " 1720,\n",
              " 1725,\n",
              " 1730,\n",
              " 1735,\n",
              " 1740,\n",
              " 1745,\n",
              " 1750,\n",
              " 1755,\n",
              " 1760,\n",
              " 1765,\n",
              " 1770,\n",
              " 1775,\n",
              " 1780,\n",
              " 1785,\n",
              " 1790,\n",
              " 1795,\n",
              " 1800,\n",
              " 1805,\n",
              " 1810,\n",
              " 1815,\n",
              " 1820,\n",
              " 1825,\n",
              " 1830,\n",
              " 1835,\n",
              " 1840,\n",
              " 1845,\n",
              " 1850,\n",
              " 1855,\n",
              " 1860,\n",
              " 1865,\n",
              " 1870,\n",
              " 1875,\n",
              " 1880,\n",
              " 1885,\n",
              " 1890,\n",
              " 1895,\n",
              " 1900,\n",
              " 1905,\n",
              " 1910,\n",
              " 1915,\n",
              " 1920,\n",
              " 1925,\n",
              " 1930,\n",
              " 1935,\n",
              " 1940,\n",
              " 1945,\n",
              " 1950,\n",
              " 1955,\n",
              " 1960,\n",
              " 1965,\n",
              " 1970,\n",
              " 1975,\n",
              " 1980,\n",
              " 1985,\n",
              " 1990,\n",
              " 1995,\n",
              " 2000,\n",
              " 2005,\n",
              " 2010,\n",
              " 2015,\n",
              " 2020,\n",
              " 2025,\n",
              " 2030,\n",
              " 2035,\n",
              " 2040,\n",
              " 2045,\n",
              " 2050,\n",
              " 2055,\n",
              " 2060,\n",
              " 2065,\n",
              " 2070,\n",
              " 2075,\n",
              " 2080,\n",
              " 2085,\n",
              " 2090,\n",
              " 2095,\n",
              " 2100,\n",
              " 2105,\n",
              " 2110,\n",
              " 2115,\n",
              " 2120,\n",
              " 2125,\n",
              " 2130,\n",
              " 2135,\n",
              " 2140,\n",
              " 2145,\n",
              " 2150,\n",
              " 2155,\n",
              " 2160,\n",
              " 2165,\n",
              " 2170,\n",
              " 2175,\n",
              " 2180,\n",
              " 2185,\n",
              " 2190,\n",
              " 2195,\n",
              " 2200,\n",
              " 2205,\n",
              " 2210,\n",
              " 2215,\n",
              " 2220,\n",
              " 2225,\n",
              " 2230,\n",
              " 2235,\n",
              " 2240,\n",
              " 2245,\n",
              " 2250,\n",
              " 2255,\n",
              " 2260,\n",
              " 2265,\n",
              " 2270,\n",
              " 2275,\n",
              " 2280,\n",
              " 2285,\n",
              " 2290,\n",
              " 2295,\n",
              " 2300,\n",
              " 2305,\n",
              " 2310,\n",
              " 2315,\n",
              " 2320,\n",
              " 2325,\n",
              " 2330,\n",
              " 2335,\n",
              " 2340,\n",
              " 2345,\n",
              " 2350,\n",
              " 2355,\n",
              " 2360,\n",
              " 2365,\n",
              " 2370,\n",
              " 2375,\n",
              " 2380,\n",
              " 2385,\n",
              " 2390,\n",
              " 2395,\n",
              " 2400,\n",
              " 2405,\n",
              " 2410,\n",
              " 2415,\n",
              " 2420,\n",
              " 2425,\n",
              " 2430,\n",
              " 2435,\n",
              " 2440,\n",
              " 2445,\n",
              " 2450,\n",
              " 2455,\n",
              " 2460,\n",
              " 2465,\n",
              " 2470,\n",
              " 2475,\n",
              " 2480,\n",
              " 2485,\n",
              " 2490,\n",
              " 2495,\n",
              " 2500,\n",
              " 2505,\n",
              " 2510,\n",
              " 2515,\n",
              " 2520,\n",
              " 2525,\n",
              " 2530,\n",
              " 2535,\n",
              " 2540,\n",
              " 2545,\n",
              " 2550,\n",
              " 2555,\n",
              " 2560,\n",
              " 2565,\n",
              " 2570,\n",
              " 2575,\n",
              " 2580,\n",
              " 2585,\n",
              " 2590,\n",
              " 2595,\n",
              " 2600,\n",
              " 2605,\n",
              " 2610,\n",
              " 2615,\n",
              " 2620,\n",
              " 2625,\n",
              " 2630,\n",
              " 2635,\n",
              " 2640,\n",
              " 2645,\n",
              " 2650,\n",
              " 2655,\n",
              " 2660,\n",
              " 2665,\n",
              " 2670,\n",
              " 2675,\n",
              " 2680,\n",
              " 2685,\n",
              " 2690,\n",
              " 2695,\n",
              " 2700,\n",
              " 2705,\n",
              " 2710,\n",
              " 2715,\n",
              " 2720,\n",
              " 2725,\n",
              " 2730,\n",
              " 2735,\n",
              " 2740,\n",
              " 2745,\n",
              " 2750,\n",
              " 2755,\n",
              " 2760,\n",
              " 2765,\n",
              " 2770,\n",
              " 2775,\n",
              " 2780,\n",
              " 2785,\n",
              " 2790,\n",
              " 2795,\n",
              " 2800,\n",
              " 2805,\n",
              " 2810,\n",
              " 2815,\n",
              " 2820,\n",
              " 2825,\n",
              " 2830,\n",
              " 2835,\n",
              " 2840,\n",
              " 2845,\n",
              " 2850,\n",
              " 2855,\n",
              " 2860,\n",
              " 2865,\n",
              " 2870,\n",
              " 2875,\n",
              " 2880,\n",
              " 2885,\n",
              " 2890,\n",
              " 2895,\n",
              " 2900,\n",
              " 2905,\n",
              " 2910,\n",
              " 2915,\n",
              " 2920,\n",
              " 2925,\n",
              " 2930,\n",
              " 2935,\n",
              " 2940,\n",
              " 2945,\n",
              " 2950,\n",
              " 2955,\n",
              " 2960,\n",
              " 2965,\n",
              " 2970,\n",
              " 2975,\n",
              " 2980,\n",
              " 2985,\n",
              " 2990,\n",
              " 2995,\n",
              " 3000,\n",
              " 3005,\n",
              " 3010,\n",
              " 3015,\n",
              " 3020,\n",
              " 3025,\n",
              " 3030,\n",
              " 3035,\n",
              " 3040,\n",
              " 3045,\n",
              " 3050,\n",
              " 3055,\n",
              " 3060,\n",
              " 3065,\n",
              " 3070,\n",
              " 3075,\n",
              " 3080,\n",
              " 3085,\n",
              " 3090,\n",
              " 3095,\n",
              " 3100,\n",
              " 3105,\n",
              " 3110,\n",
              " 3115,\n",
              " 3120,\n",
              " 3125,\n",
              " 3130,\n",
              " 3135,\n",
              " 3140,\n",
              " 3145,\n",
              " 3150,\n",
              " 3155,\n",
              " 3160,\n",
              " 3165,\n",
              " 3170,\n",
              " 3175,\n",
              " 3180,\n",
              " 3185,\n",
              " 3190,\n",
              " 3195,\n",
              " 3200,\n",
              " 3205,\n",
              " 3210,\n",
              " 3215,\n",
              " 3220,\n",
              " 3225,\n",
              " 3230,\n",
              " 3235,\n",
              " 3240,\n",
              " 3245,\n",
              " 3250,\n",
              " 3255,\n",
              " 3260,\n",
              " 3265,\n",
              " 3270,\n",
              " 3275,\n",
              " 3280,\n",
              " 3285,\n",
              " 3290,\n",
              " 3295,\n",
              " 3300,\n",
              " 3305,\n",
              " 3310,\n",
              " 3315,\n",
              " 3320,\n",
              " 3325,\n",
              " 3330,\n",
              " 3335,\n",
              " 3340,\n",
              " 3345,\n",
              " 3350,\n",
              " 3355,\n",
              " 3360,\n",
              " 3365,\n",
              " 3370,\n",
              " 3375,\n",
              " 3380,\n",
              " 3385,\n",
              " 3390,\n",
              " 3395,\n",
              " 3400,\n",
              " 3405,\n",
              " 3410,\n",
              " 3415,\n",
              " 3420,\n",
              " 3425,\n",
              " 3430,\n",
              " 3435,\n",
              " 3440,\n",
              " 3445,\n",
              " 3450,\n",
              " 3455,\n",
              " 3460,\n",
              " 3465,\n",
              " 3470,\n",
              " 3475,\n",
              " 3480,\n",
              " 3485,\n",
              " 3490,\n",
              " 3495,\n",
              " 3500,\n",
              " 3505,\n",
              " 3510,\n",
              " 3515,\n",
              " 3520,\n",
              " 3525,\n",
              " 3530,\n",
              " 3535,\n",
              " 3540,\n",
              " 3545,\n",
              " 3550,\n",
              " 3555,\n",
              " 3560,\n",
              " 3565,\n",
              " 3570,\n",
              " 3575,\n",
              " 3580,\n",
              " 3585,\n",
              " 3590,\n",
              " 3595,\n",
              " 3600,\n",
              " 3605,\n",
              " 3610,\n",
              " 3615,\n",
              " 3620,\n",
              " 3625,\n",
              " 3630,\n",
              " 3635,\n",
              " 3640,\n",
              " 3645,\n",
              " 3650,\n",
              " 3655,\n",
              " 3660,\n",
              " 3665,\n",
              " 3670,\n",
              " 3675,\n",
              " 3680,\n",
              " 3685,\n",
              " 3690,\n",
              " 3695,\n",
              " 3700,\n",
              " 3705,\n",
              " 3710,\n",
              " 3715,\n",
              " 3720,\n",
              " 3725,\n",
              " 3730,\n",
              " 3735,\n",
              " 3740,\n",
              " 3745,\n",
              " 3750,\n",
              " 3755,\n",
              " 3760,\n",
              " 3765,\n",
              " 3770,\n",
              " 3775,\n",
              " 3780,\n",
              " 3785,\n",
              " 3790,\n",
              " 3795,\n",
              " 3800,\n",
              " 3805,\n",
              " 3810,\n",
              " 3815,\n",
              " 3820,\n",
              " 3825,\n",
              " 3830,\n",
              " 3835,\n",
              " 3840,\n",
              " 3845,\n",
              " 3850,\n",
              " 3855,\n",
              " 3860,\n",
              " 3865,\n",
              " 3870,\n",
              " 3875,\n",
              " 3880,\n",
              " 3885,\n",
              " 3890,\n",
              " 3895,\n",
              " 3900,\n",
              " 3905,\n",
              " 3910,\n",
              " 3915,\n",
              " 3920,\n",
              " 3925,\n",
              " 3930,\n",
              " 3935,\n",
              " 3940,\n",
              " 3945,\n",
              " 3950,\n",
              " 3955,\n",
              " 3960,\n",
              " 3965,\n",
              " 3970,\n",
              " 3975,\n",
              " 3980,\n",
              " 3985,\n",
              " 3990,\n",
              " 3995,\n",
              " 4000,\n",
              " 4005,\n",
              " 4010,\n",
              " 4015,\n",
              " 4020,\n",
              " 4025,\n",
              " 4030,\n",
              " 4035,\n",
              " 4040,\n",
              " 4045,\n",
              " 4050,\n",
              " 4055,\n",
              " 4060,\n",
              " 4065,\n",
              " 4070,\n",
              " 4075,\n",
              " 4080,\n",
              " 4085,\n",
              " 4090,\n",
              " 4095,\n",
              " 4100,\n",
              " 4105,\n",
              " 4110,\n",
              " 4115,\n",
              " 4120,\n",
              " 4125,\n",
              " 4130,\n",
              " 4135,\n",
              " 4140,\n",
              " 4145,\n",
              " 4150,\n",
              " 4155,\n",
              " 4160,\n",
              " 4165,\n",
              " 4170,\n",
              " 4175,\n",
              " 4180,\n",
              " 4185,\n",
              " 4190,\n",
              " 4195,\n",
              " 4200,\n",
              " 4205,\n",
              " 4210,\n",
              " 4215,\n",
              " 4220,\n",
              " 4225,\n",
              " 4230,\n",
              " 4235,\n",
              " 4240,\n",
              " 4245,\n",
              " 4250,\n",
              " 4255,\n",
              " 4260,\n",
              " 4265,\n",
              " 4270,\n",
              " 4275,\n",
              " 4280,\n",
              " 4285,\n",
              " 4290,\n",
              " 4295,\n",
              " 4300,\n",
              " 4305,\n",
              " 4310,\n",
              " 4315,\n",
              " 4320,\n",
              " 4325,\n",
              " 4330,\n",
              " 4335,\n",
              " 4340,\n",
              " 4345,\n",
              " 4350,\n",
              " 4355,\n",
              " 4360,\n",
              " 4365,\n",
              " 4370,\n",
              " 4375,\n",
              " 4380,\n",
              " 4385,\n",
              " 4390,\n",
              " 4395,\n",
              " 4400,\n",
              " 4405,\n",
              " 4410,\n",
              " 4415,\n",
              " 4420,\n",
              " 4425,\n",
              " 4430,\n",
              " 4435,\n",
              " 4440,\n",
              " 4445,\n",
              " 4450,\n",
              " 4455,\n",
              " 4460,\n",
              " 4465,\n",
              " 4470,\n",
              " 4475,\n",
              " 4480,\n",
              " 4485,\n",
              " 4490,\n",
              " 4495,\n",
              " 4500,\n",
              " 4505,\n",
              " 4510,\n",
              " 4515,\n",
              " 4520,\n",
              " 4525,\n",
              " 4530,\n",
              " 4535,\n",
              " 4540,\n",
              " 4545,\n",
              " 4550,\n",
              " 4555,\n",
              " 4560,\n",
              " 4565,\n",
              " 4570,\n",
              " 4575,\n",
              " 4580,\n",
              " 4585,\n",
              " 4590,\n",
              " 4595,\n",
              " 4600,\n",
              " 4605,\n",
              " 4610,\n",
              " 4615,\n",
              " 4620,\n",
              " 4625,\n",
              " 4630,\n",
              " 4635,\n",
              " 4640,\n",
              " 4645,\n",
              " 4650,\n",
              " 4655,\n",
              " 4660,\n",
              " 4665,\n",
              " 4670,\n",
              " 4675,\n",
              " 4680,\n",
              " 4685,\n",
              " 4690,\n",
              " 4695,\n",
              " 4700,\n",
              " 4705,\n",
              " 4710,\n",
              " 4715,\n",
              " 4720,\n",
              " 4725,\n",
              " 4730,\n",
              " 4735,\n",
              " 4740,\n",
              " 4745,\n",
              " 4750,\n",
              " 4755,\n",
              " 4760,\n",
              " 4765,\n",
              " 4770,\n",
              " 4775,\n",
              " 4780,\n",
              " 4785,\n",
              " 4790,\n",
              " 4795,\n",
              " 4800,\n",
              " 4805,\n",
              " 4810,\n",
              " 4815,\n",
              " 4820,\n",
              " 4825,\n",
              " 4830,\n",
              " 4835,\n",
              " 4840,\n",
              " 4845,\n",
              " 4850,\n",
              " 4855,\n",
              " 4860,\n",
              " 4865,\n",
              " 4870,\n",
              " 4875,\n",
              " 4880,\n",
              " 4885,\n",
              " 4890,\n",
              " 4895,\n",
              " 4900,\n",
              " 4905,\n",
              " 4910,\n",
              " 4915,\n",
              " 4920,\n",
              " 4925,\n",
              " 4930,\n",
              " 4935,\n",
              " 4940,\n",
              " 4945,\n",
              " 4950,\n",
              " 4955,\n",
              " 4960,\n",
              " 4965,\n",
              " 4970,\n",
              " 4975,\n",
              " 4980,\n",
              " 4985,\n",
              " 4990,\n",
              " 4995,\n",
              " ...]"
            ]
          },
          "metadata": {},
          "execution_count": 57
        }
      ]
    },
    {
      "cell_type": "code",
      "source": [
        "speedtest = np.arange(0,5001,5)\n",
        "speedtest"
      ],
      "metadata": {
        "colab": {
          "base_uri": "https://localhost:8080/"
        },
        "id": "qbI2cFr4lX87",
        "outputId": "d3b438c2-58fd-4ab6-ba81-3c9f5057886f"
      },
      "execution_count": null,
      "outputs": [
        {
          "output_type": "execute_result",
          "data": {
            "text/plain": [
              "array([   0,    5,   10, ..., 4990, 4995, 5000])"
            ]
          },
          "metadata": {},
          "execution_count": 58
        }
      ]
    },
    {
      "cell_type": "code",
      "source": [
        "%timeit speedtest + 5 # time a particular piece of code "
      ],
      "metadata": {
        "colab": {
          "base_uri": "https://localhost:8080/"
        },
        "id": "CxBNlpskl2Rr",
        "outputId": "30548521-17a9-486f-b20d-a79d06743d25"
      },
      "execution_count": null,
      "outputs": [
        {
          "output_type": "stream",
          "name": "stdout",
          "text": [
            "1.36 µs ± 11.2 ns per loop (mean ± std. dev. of 7 runs, 1000000 loops each)\n"
          ]
        }
      ]
    },
    {
      "cell_type": "code",
      "source": [
        "%timeit [e + 5 for e in speed]"
      ],
      "metadata": {
        "colab": {
          "base_uri": "https://localhost:8080/"
        },
        "id": "MMIT_BY4nQoC",
        "outputId": "04ef1433-0167-4ea0-b505-650bef19476b"
      },
      "execution_count": null,
      "outputs": [
        {
          "output_type": "stream",
          "name": "stdout",
          "text": [
            "71.6 µs ± 511 ns per loop (mean ± std. dev. of 7 runs, 10000 loops each)\n"
          ]
        }
      ]
    },
    {
      "cell_type": "markdown",
      "source": [
        "Boolean string operations can also be performed on ndarrays."
      ],
      "metadata": {
        "id": "drH-AoPNnkwH"
      }
    },
    {
      "cell_type": "code",
      "source": [
        "words = np.array([\"ten\", \"nine\", \"eight\", \"seven\", \"six\"])\n",
        "\n",
        "print(np.isin(words, 'e'))\n",
        "\n",
        "print(\"e\" in words)\n",
        "[\"e\" in word for word in words]"
      ],
      "metadata": {
        "colab": {
          "base_uri": "https://localhost:8080/"
        },
        "id": "VXpFM_a5nmJ6",
        "outputId": "6ff7c08b-efdf-4dd7-e867-2d9fcb71548a"
      },
      "execution_count": null,
      "outputs": [
        {
          "output_type": "stream",
          "name": "stdout",
          "text": [
            "[False False False False False]\n",
            "False\n"
          ]
        },
        {
          "output_type": "execute_result",
          "data": {
            "text/plain": [
              "[True, True, True, True, False]"
            ]
          },
          "metadata": {},
          "execution_count": 61
        }
      ]
    },
    {
      "cell_type": "markdown",
      "source": [
        "**Transpose**"
      ],
      "metadata": {
        "id": "7kVQ1mbRoJmk"
      }
    },
    {
      "cell_type": "code",
      "source": [
        "people.shape = (2, 6)\n",
        "print(people, \"\\n\")\n",
        "print(people.T)"
      ],
      "metadata": {
        "colab": {
          "base_uri": "https://localhost:8080/"
        },
        "id": "lHcSMEyHoKwR",
        "outputId": "47902528-7565-4d43-e377-91c1a25d086f"
      },
      "execution_count": null,
      "outputs": [
        {
          "output_type": "stream",
          "name": "stdout",
          "text": [
            "[[10 12 18  2 23 60]\n",
            " [32 18 26 60 55 65]] \n",
            "\n",
            "[[10 32]\n",
            " [12 18]\n",
            " [18 26]\n",
            " [ 2 60]\n",
            " [23 55]\n",
            " [60 65]]\n"
          ]
        }
      ]
    },
    {
      "cell_type": "markdown",
      "source": [
        "Data **Types**"
      ],
      "metadata": {
        "id": "pOrAl5RxoV7q"
      }
    },
    {
      "cell_type": "markdown",
      "source": [
        "As previously mentioned, ndarrays can only have one data type. If we want to obtain or change this, we use the .dtype attribute."
      ],
      "metadata": {
        "id": "m4VP9yNUoYMk"
      }
    },
    {
      "cell_type": "code",
      "source": [
        "people.dtype"
      ],
      "metadata": {
        "colab": {
          "base_uri": "https://localhost:8080/"
        },
        "id": "8E8dAssNob4L",
        "outputId": "d4458d34-3df9-4ee6-85e5-adff947fc59d"
      },
      "execution_count": null,
      "outputs": [
        {
          "output_type": "execute_result",
          "data": {
            "text/plain": [
              "dtype('int64')"
            ]
          },
          "metadata": {},
          "execution_count": 63
        }
      ]
    },
    {
      "cell_type": "code",
      "source": [
        "#union 21 characters---u21\n",
        "strings = np.array([10, 5, 8, '32', '65', '43'])\n",
        "strings"
      ],
      "metadata": {
        "colab": {
          "base_uri": "https://localhost:8080/"
        },
        "id": "XwE7-bV9oeTl",
        "outputId": "16f6351c-3c08-48a3-dcd0-68e1c5dbd574"
      },
      "execution_count": null,
      "outputs": [
        {
          "output_type": "execute_result",
          "data": {
            "text/plain": [
              "array(['10', '5', '8', '32', '65', '43'], dtype='<U21')"
            ]
          },
          "metadata": {},
          "execution_count": 64
        }
      ]
    },
    {
      "cell_type": "code",
      "source": [],
      "metadata": {
        "id": "vlfkXQfI2xHI"
      },
      "execution_count": null,
      "outputs": []
    },
    {
      "cell_type": "code",
      "source": [
        "#What is the dtype of this array?\n",
        "strings = np.array([10, 5, 8, '32', '65', '43'], dtype='int32')\n",
        "strings"
      ],
      "metadata": {
        "colab": {
          "base_uri": "https://localhost:8080/"
        },
        "id": "KNI0sLo2oxoi",
        "outputId": "97875156-1674-4339-c1c5-a10a812197b7"
      },
      "execution_count": null,
      "outputs": [
        {
          "output_type": "execute_result",
          "data": {
            "text/plain": [
              "array([10,  5,  8, 32, 65, 43], dtype=int32)"
            ]
          },
          "metadata": {},
          "execution_count": 65
        }
      ]
    },
    {
      "cell_type": "code",
      "source": [
        "strings = np.array([10, 5, 8, '32', '65', '43'])\n",
        "print(strings)"
      ],
      "metadata": {
        "colab": {
          "base_uri": "https://localhost:8080/"
        },
        "id": "4YAtt0Xgplz3",
        "outputId": "05ede48f-5d14-42ee-8bd3-8dde876eb0b6"
      },
      "execution_count": null,
      "outputs": [
        {
          "output_type": "stream",
          "name": "stdout",
          "text": [
            "['10' '5' '8' '32' '65' '43']\n"
          ]
        }
      ]
    },
    {
      "cell_type": "code",
      "source": [
        "strings.dtype = 'int32'\n",
        "print(strings)"
      ],
      "metadata": {
        "colab": {
          "base_uri": "https://localhost:8080/"
        },
        "id": "pFMOrbIPqVmH",
        "outputId": "1cb04d11-b761-452c-b890-8d4f520c8c4c"
      },
      "execution_count": null,
      "outputs": [
        {
          "output_type": "stream",
          "name": "stdout",
          "text": [
            "[49 48  0  0  0  0  0  0  0  0  0  0  0  0  0  0  0  0  0  0  0 53  0  0\n",
            "  0  0  0  0  0  0  0  0  0  0  0  0  0  0  0  0  0  0 56  0  0  0  0  0\n",
            "  0  0  0  0  0  0  0  0  0  0  0  0  0  0  0 51 50  0  0  0  0  0  0  0\n",
            "  0  0  0  0  0  0  0  0  0  0  0  0 54 53  0  0  0  0  0  0  0  0  0  0\n",
            "  0  0  0  0  0  0  0  0  0 52 51  0  0  0  0  0  0  0  0  0  0  0  0  0\n",
            "  0  0  0  0  0  0]\n"
          ]
        }
      ]
    },
    {
      "cell_type": "code",
      "source": [
        "strings.size\n"
      ],
      "metadata": {
        "colab": {
          "base_uri": "https://localhost:8080/"
        },
        "id": "PB0N2Diuqe1Y",
        "outputId": "55c5a09b-c9d8-4d42-eac3-0b46bc5f2362"
      },
      "execution_count": null,
      "outputs": [
        {
          "output_type": "execute_result",
          "data": {
            "text/plain": [
              "126"
            ]
          },
          "metadata": {},
          "execution_count": 69
        }
      ]
    },
    {
      "cell_type": "code",
      "source": [
        "#126/21\n",
        "strings.size/21"
      ],
      "metadata": {
        "colab": {
          "base_uri": "https://localhost:8080/"
        },
        "id": "U0_WvVruqkaT",
        "outputId": "c9b59234-8507-4265-e7bd-9a2c4263e7a7"
      },
      "execution_count": null,
      "outputs": [
        {
          "output_type": "execute_result",
          "data": {
            "text/plain": [
              "6.0"
            ]
          },
          "metadata": {},
          "execution_count": 70
        }
      ]
    },
    {
      "cell_type": "code",
      "source": [
        "np.array([10, 5, 8, '32', '65', '43']).size"
      ],
      "metadata": {
        "colab": {
          "base_uri": "https://localhost:8080/"
        },
        "id": "4XfpK8zYqtO4",
        "outputId": "9b1b93cf-a22b-4a0b-dccc-131e72197a46"
      },
      "execution_count": null,
      "outputs": [
        {
          "output_type": "execute_result",
          "data": {
            "text/plain": [
              "6"
            ]
          },
          "metadata": {},
          "execution_count": 71
        }
      ]
    },
    {
      "cell_type": "markdown",
      "source": [
        "The correct way to have changed the data type of the ndarray would have been to use the .astype() method, demonstrated below."
      ],
      "metadata": {
        "id": "3EPV9Nbtq7r7"
      }
    },
    {
      "cell_type": "code",
      "source": [
        "strings = np.array([10, 5, 8, '32', '65', '43'])\n",
        "print(strings)\n",
        "print(strings.astype('int32'))"
      ],
      "metadata": {
        "colab": {
          "base_uri": "https://localhost:8080/"
        },
        "id": "jF1rEzt-q8OX",
        "outputId": "cea463ab-e005-4763-c9bb-178a4829807d"
      },
      "execution_count": null,
      "outputs": [
        {
          "output_type": "stream",
          "name": "stdout",
          "text": [
            "['10' '5' '8' '32' '65' '43']\n",
            "[10  5  8 32 65 43]\n"
          ]
        }
      ]
    },
    {
      "cell_type": "markdown",
      "source": [
        "**Exercise**"
      ],
      "metadata": {
        "id": "1cn_feSErHzM"
      }
    },
    {
      "cell_type": "markdown",
      "source": [
        "#### Create an array of string numbers, but use dtype to make it an array of floats."
      ],
      "metadata": {
        "id": "j1BQXNjprKKH"
      }
    },
    {
      "cell_type": "code",
      "source": [
        "strings = np.array([10, 5, 8, '32', '65', '43'])\n",
        "print(strings)\n",
        "print(strings.astype('float'))"
      ],
      "metadata": {
        "colab": {
          "base_uri": "https://localhost:8080/"
        },
        "id": "wvjUC6vfrLpE",
        "outputId": "9757f594-7be3-40a5-8a37-22eb089e821d"
      },
      "execution_count": null,
      "outputs": [
        {
          "output_type": "stream",
          "name": "stdout",
          "text": [
            "['10' '5' '8' '32' '65' '43']\n",
            "[10.  5.  8. 32. 65. 43.]\n"
          ]
        }
      ]
    },
    {
      "cell_type": "code",
      "source": [
        "strings = np.array([10, 5, 8, '32', '65', '43'], dtype='float')\n",
        "strings"
      ],
      "metadata": {
        "colab": {
          "base_uri": "https://localhost:8080/"
        },
        "id": "-LwMoLJUve6n",
        "outputId": "1f346b14-dccc-4bb1-a8f6-765392edaa08"
      },
      "execution_count": null,
      "outputs": [
        {
          "output_type": "execute_result",
          "data": {
            "text/plain": [
              "array([10.,  5.,  8., 32., 65., 43.])"
            ]
          },
          "metadata": {},
          "execution_count": 76
        }
      ]
    },
    {
      "cell_type": "markdown",
      "source": [
        "#### Transpose the matrix, printing the new size and shape."
      ],
      "metadata": {
        "id": "HejAJeypr8B3"
      }
    },
    {
      "cell_type": "code",
      "source": [
        "number1=[1,2,3,4]\n",
        "number2=[5,6,7,8]\n",
        "matrix=np.array([number1,number2])\n",
        "\n",
        "print(\"matrix:\",matrix)\n",
        "print(\"transpose\",matrix.T)\n",
        "\n",
        "\n",
        "print(\"size:\",matrix.T.size)\n",
        "print(\"shape:\",matrix.T.shape)"
      ],
      "metadata": {
        "colab": {
          "base_uri": "https://localhost:8080/"
        },
        "id": "MBbUxkzTwSHw",
        "outputId": "99dabb59-7c06-4ce9-85e2-8c852b04c77b"
      },
      "execution_count": null,
      "outputs": [
        {
          "output_type": "stream",
          "name": "stdout",
          "text": [
            "matrix: [[1 2 3 4]\n",
            " [5 6 7 8]]\n",
            "transpose [[1 5]\n",
            " [2 6]\n",
            " [3 7]\n",
            " [4 8]]\n",
            "size: 8\n",
            "shape: (4, 2)\n"
          ]
        }
      ]
    },
    {
      "cell_type": "markdown",
      "source": [
        "#### Use the .astype() method to convert the array to boolean."
      ],
      "metadata": {
        "id": "j7G4tf5NzCPR"
      }
    },
    {
      "cell_type": "code",
      "source": [
        "array = np.array([1,0,2,3,4,5,6])\n",
        "print(array)\n",
        "#print(strings.astype('float'))\n",
        "usingastype=array.astype(dtype=bool)\n",
        "print(f\" boolean array is:{usingastype}\")"
      ],
      "metadata": {
        "colab": {
          "base_uri": "https://localhost:8080/"
        },
        "id": "kib5eF9BzCxq",
        "outputId": "dedd4fed-c9e8-4082-b17a-00d1b80a04d3"
      },
      "execution_count": null,
      "outputs": [
        {
          "output_type": "stream",
          "name": "stdout",
          "text": [
            "[1 0 2 3 4 5 6]\n",
            " boolean array is:[ True False  True  True  True  True  True]\n"
          ]
        }
      ]
    },
    {
      "cell_type": "markdown",
      "source": [
        "**Array Slicing Operations**"
      ],
      "metadata": {
        "id": "8hX74ldc0dz-"
      }
    },
    {
      "cell_type": "markdown",
      "source": [
        "As before, we can use square brackets and indices to access individual values, and the colon operator to slice the array."
      ],
      "metadata": {
        "id": "IJ6YEw6a0kdY"
      }
    },
    {
      "cell_type": "code",
      "source": [
        "numbers"
      ],
      "metadata": {
        "colab": {
          "base_uri": "https://localhost:8080/"
        },
        "id": "l4azD7L60hUP",
        "outputId": "9d123fc1-ffbf-4fdf-b74a-910f208f0a4e"
      },
      "execution_count": null,
      "outputs": [
        {
          "output_type": "execute_result",
          "data": {
            "text/plain": [
              "array([ 0,  4,  8, 12, 16, 20, 24, 28, 32, 36])"
            ]
          },
          "metadata": {},
          "execution_count": 97
        }
      ]
    },
    {
      "cell_type": "code",
      "source": [
        "numbers[0]"
      ],
      "metadata": {
        "colab": {
          "base_uri": "https://localhost:8080/"
        },
        "id": "0s_y-17F1Ani",
        "outputId": "176b4174-0de2-475b-8e85-af700d07a9f4"
      },
      "execution_count": null,
      "outputs": [
        {
          "output_type": "execute_result",
          "data": {
            "text/plain": [
              "0"
            ]
          },
          "metadata": {},
          "execution_count": 98
        }
      ]
    },
    {
      "cell_type": "code",
      "source": [
        "numbers[-1]"
      ],
      "metadata": {
        "colab": {
          "base_uri": "https://localhost:8080/"
        },
        "id": "vmlncrH21D4W",
        "outputId": "a3994257-a3fb-4d7f-97be-dabd9c5d364b"
      },
      "execution_count": null,
      "outputs": [
        {
          "output_type": "execute_result",
          "data": {
            "text/plain": [
              "36"
            ]
          },
          "metadata": {},
          "execution_count": 100
        }
      ]
    },
    {
      "cell_type": "code",
      "source": [
        "numbers[:4]"
      ],
      "metadata": {
        "colab": {
          "base_uri": "https://localhost:8080/"
        },
        "id": "8jPtL08W1Gc6",
        "outputId": "2d715062-75d7-4537-e41d-3b5f40f247cc"
      },
      "execution_count": null,
      "outputs": [
        {
          "output_type": "execute_result",
          "data": {
            "text/plain": [
              "array([ 0,  4,  8, 12])"
            ]
          },
          "metadata": {},
          "execution_count": 103
        }
      ]
    },
    {
      "cell_type": "code",
      "source": [
        "numbers[4:]"
      ],
      "metadata": {
        "colab": {
          "base_uri": "https://localhost:8080/"
        },
        "id": "Tgum86Dh1KxX",
        "outputId": "5bbe82d6-1786-49d5-dd06-67721d80053f"
      },
      "execution_count": null,
      "outputs": [
        {
          "output_type": "execute_result",
          "data": {
            "text/plain": [
              "array([16, 20, 24, 28, 32, 36])"
            ]
          },
          "metadata": {},
          "execution_count": 105
        }
      ]
    },
    {
      "cell_type": "code",
      "source": [
        "#We can also slice an n-dim ndarray., specifying the slice operation accross each axis.\n",
        "\n",
        "print(people)\n",
        "people[:3,:3]"
      ],
      "metadata": {
        "colab": {
          "base_uri": "https://localhost:8080/"
        },
        "id": "NnFzAcly1PRO",
        "outputId": "29f56725-363f-43bd-942f-8e9dd10c25c7"
      },
      "execution_count": null,
      "outputs": [
        {
          "output_type": "stream",
          "name": "stdout",
          "text": [
            "[[10 12 18  2 23 60]\n",
            " [32 18 26 60 55 65]]\n"
          ]
        },
        {
          "output_type": "execute_result",
          "data": {
            "text/plain": [
              "array([[10, 12, 18],\n",
              "       [32, 18, 26]])"
            ]
          },
          "metadata": {},
          "execution_count": 106
        }
      ]
    },
    {
      "cell_type": "markdown",
      "source": [
        "Exercise"
      ],
      "metadata": {
        "id": "xMZdBTrv1bRP"
      }
    },
    {
      "cell_type": "markdown",
      "source": [
        "Create a numpy array with 50 zeros"
      ],
      "metadata": {
        "id": "mDYsAUFM1fqu"
      }
    },
    {
      "cell_type": "code",
      "source": [
        "number3=np.zeros((50), dtype=int)\n",
        "print(number3)"
      ],
      "metadata": {
        "colab": {
          "base_uri": "https://localhost:8080/"
        },
        "id": "y1V-AhYc1gZO",
        "outputId": "b73ac8a8-decd-4842-9f63-f9e4c6bc2904"
      },
      "execution_count": null,
      "outputs": [
        {
          "output_type": "stream",
          "name": "stdout",
          "text": [
            "[0 0 0 0 0 0 0 0 0 0 0 0 0 0 0 0 0 0 0 0 0 0 0 0 0 0 0 0 0 0 0 0 0 0 0 0 0\n",
            " 0 0 0 0 0 0 0 0 0 0 0 0 0]\n"
          ]
        }
      ]
    },
    {
      "cell_type": "markdown",
      "source": [
        "Create a np array of 2 repeated 20 times"
      ],
      "metadata": {
        "id": "WP0ee9az2ilt"
      }
    },
    {
      "cell_type": "code",
      "source": [
        "number4=np.repeat(2,20)\n",
        "number4"
      ],
      "metadata": {
        "colab": {
          "base_uri": "https://localhost:8080/"
        },
        "id": "mxw-chEm2zGk",
        "outputId": "7ae7da50-8580-45c2-815d-f960a1fa8618"
      },
      "execution_count": null,
      "outputs": [
        {
          "output_type": "execute_result",
          "data": {
            "text/plain": [
              "array([2, 2, 2, 2, 2, 2, 2, 2, 2, 2, 2, 2, 2, 2, 2, 2, 2, 2, 2, 2])"
            ]
          },
          "metadata": {},
          "execution_count": 119
        }
      ]
    },
    {
      "cell_type": "markdown",
      "source": [
        "Create a numpy array from 0 to 2pi  in steps of 0.1"
      ],
      "metadata": {
        "id": "qleOntD53DVY"
      }
    },
    {
      "cell_type": "code",
      "source": [
        "import math as m\n",
        "arr=np.arange(0,m.pi*2,0.1)\n",
        "arr"
      ],
      "metadata": {
        "colab": {
          "base_uri": "https://localhost:8080/"
        },
        "id": "2cLSPrY_3FKb",
        "outputId": "7ea6bb92-c16f-4b47-d21d-280c1599f1fd"
      },
      "execution_count": null,
      "outputs": [
        {
          "output_type": "execute_result",
          "data": {
            "text/plain": [
              "array([0. , 0.1, 0.2, 0.3, 0.4, 0.5, 0.6, 0.7, 0.8, 0.9, 1. , 1.1, 1.2,\n",
              "       1.3, 1.4, 1.5, 1.6, 1.7, 1.8, 1.9, 2. , 2.1, 2.2, 2.3, 2.4, 2.5,\n",
              "       2.6, 2.7, 2.8, 2.9, 3. , 3.1, 3.2, 3.3, 3.4, 3.5, 3.6, 3.7, 3.8,\n",
              "       3.9, 4. , 4.1, 4.2, 4.3, 4.4, 4.5, 4.6, 4.7, 4.8, 4.9, 5. , 5.1,\n",
              "       5.2, 5.3, 5.4, 5.5, 5.6, 5.7, 5.8, 5.9, 6. , 6.1, 6.2])"
            ]
          },
          "metadata": {},
          "execution_count": 175
        }
      ]
    },
    {
      "cell_type": "markdown",
      "source": [
        "\n",
        "For one of the arrays generated:\n",
        "\n",
        "Get the first five values\n",
        "Get the last 3 values\n",
        "Get the 4th value to the 7th value"
      ],
      "metadata": {
        "id": "V-wOkFnt3hzU"
      }
    },
    {
      "cell_type": "code",
      "source": [
        "#Get the first five values\n",
        "array2=[2,3,4,5,6,7,6,78,9]\n",
        "array2[:6]\n"
      ],
      "metadata": {
        "colab": {
          "base_uri": "https://localhost:8080/"
        },
        "id": "6H6I7YqH3jfg",
        "outputId": "d8f23bfb-e0d2-4bc6-b16f-f37afe1703e0"
      },
      "execution_count": null,
      "outputs": [
        {
          "output_type": "execute_result",
          "data": {
            "text/plain": [
              "[6, 7, 6, 78, 9]"
            ]
          },
          "metadata": {},
          "execution_count": 123
        }
      ]
    },
    {
      "cell_type": "code",
      "source": [
        "#Get the last 3 values\n",
        "array2[6:]"
      ],
      "metadata": {
        "colab": {
          "base_uri": "https://localhost:8080/"
        },
        "id": "cKFGq4Jc3_pe",
        "outputId": "90a8cf66-2bce-4b5a-f685-45a86a471e15"
      },
      "execution_count": null,
      "outputs": [
        {
          "output_type": "execute_result",
          "data": {
            "text/plain": [
              "[6, 78, 9]"
            ]
          },
          "metadata": {},
          "execution_count": 126
        }
      ]
    },
    {
      "cell_type": "code",
      "source": [
        "#Get the 4th value to the 7th value\n",
        "\n",
        "array2[4:8]"
      ],
      "metadata": {
        "colab": {
          "base_uri": "https://localhost:8080/"
        },
        "id": "e8UZ5yng4Yd-",
        "outputId": "e4400590-0c64-4440-ec8d-9369061389d3"
      },
      "execution_count": null,
      "outputs": [
        {
          "output_type": "execute_result",
          "data": {
            "text/plain": [
              "[6, 7, 6, 78]"
            ]
          },
          "metadata": {},
          "execution_count": 135
        }
      ]
    },
    {
      "cell_type": "markdown",
      "source": [
        "We can reverse an array by using .flip() or by using the :: operator."
      ],
      "metadata": {
        "id": "-gxCcm-G5sQ8"
      }
    },
    {
      "cell_type": "code",
      "source": [
        "numbers=np.flip(numbers)\n",
        "\n",
        "numbers"
      ],
      "metadata": {
        "colab": {
          "base_uri": "https://localhost:8080/"
        },
        "id": "2omav-JR5t1P",
        "outputId": "49866567-6a63-4195-a583-a7923352470c"
      },
      "execution_count": null,
      "outputs": [
        {
          "output_type": "execute_result",
          "data": {
            "text/plain": [
              "array([36, 32, 28, 24, 20, 16, 12,  8,  4,  0])"
            ]
          },
          "metadata": {},
          "execution_count": 136
        }
      ]
    },
    {
      "cell_type": "code",
      "source": [
        "reversenumbers=numbers[-1::-1]\n",
        "print(numbers)\n",
        "print(reversenumbers)"
      ],
      "metadata": {
        "colab": {
          "base_uri": "https://localhost:8080/"
        },
        "id": "e8vqmvSo5_wH",
        "outputId": "4cacec2a-6ad7-4e36-a479-45e963dae499"
      },
      "execution_count": null,
      "outputs": [
        {
          "output_type": "stream",
          "name": "stdout",
          "text": [
            "[36 32 28 24 20 16 12  8  4  0]\n",
            "[ 0  4  8 12 16 20 24 28 32 36]\n"
          ]
        }
      ]
    },
    {
      "cell_type": "markdown",
      "source": [
        "We can also use the :: operator to select steps of the original array."
      ],
      "metadata": {
        "id": "zw-AVfrY6Q3O"
      }
    },
    {
      "cell_type": "code",
      "source": [
        "numbers[0::3]"
      ],
      "metadata": {
        "colab": {
          "base_uri": "https://localhost:8080/"
        },
        "id": "p1kZJ3QQ6Rbd",
        "outputId": "f07d9b0f-5e23-482b-eb53-4216652e92fc"
      },
      "execution_count": null,
      "outputs": [
        {
          "output_type": "execute_result",
          "data": {
            "text/plain": [
              "array([36, 24, 12,  0])"
            ]
          },
          "metadata": {},
          "execution_count": 140
        }
      ]
    },
    {
      "cell_type": "markdown",
      "source": [
        "Exercise"
      ],
      "metadata": {
        "id": "cX_nSDsW6eLE"
      }
    },
    {
      "cell_type": "markdown",
      "source": [
        "take one of the arrays you defined and\n",
        "\n",
        "#### Reverse it"
      ],
      "metadata": {
        "id": "XL24k2hR6fhL"
      }
    },
    {
      "cell_type": "code",
      "source": [
        "num=[1,23,4,56,67,3]\n",
        "num1=np.flip(num)\n",
        "num1"
      ],
      "metadata": {
        "colab": {
          "base_uri": "https://localhost:8080/"
        },
        "id": "OhEIHaLF6hen",
        "outputId": "0c10a47f-5d15-41c7-cf0b-7d798d4cd144"
      },
      "execution_count": null,
      "outputs": [
        {
          "output_type": "execute_result",
          "data": {
            "text/plain": [
              "array([ 3, 67, 56,  4, 23,  1])"
            ]
          },
          "metadata": {},
          "execution_count": 152
        }
      ]
    },
    {
      "cell_type": "markdown",
      "source": [
        "Only keep every 4th element."
      ],
      "metadata": {
        "id": "3iZws00W68pA"
      }
    },
    {
      "cell_type": "code",
      "source": [
        "num[::4]"
      ],
      "metadata": {
        "colab": {
          "base_uri": "https://localhost:8080/"
        },
        "id": "LgfiLxl869gk",
        "outputId": "98345984-6582-44d9-ce02-1144d8ceefc0"
      },
      "execution_count": null,
      "outputs": [
        {
          "output_type": "execute_result",
          "data": {
            "text/plain": [
              "[1, 67]"
            ]
          },
          "metadata": {},
          "execution_count": 178
        }
      ]
    },
    {
      "cell_type": "markdown",
      "source": [
        "#### Get every 2nd element, starting from the last and moving backwards."
      ],
      "metadata": {
        "id": "wIDJYDoQ7QlZ"
      }
    },
    {
      "cell_type": "code",
      "source": [
        "num1[::2][::-1]"
      ],
      "metadata": {
        "colab": {
          "base_uri": "https://localhost:8080/"
        },
        "id": "J4cYsWKv7SKi",
        "outputId": "1ad1c0ac-499b-417d-a188-cd217c95ee93"
      },
      "execution_count": null,
      "outputs": [
        {
          "output_type": "execute_result",
          "data": {
            "text/plain": [
              "array([23, 56,  3])"
            ]
          },
          "metadata": {},
          "execution_count": 154
        }
      ]
    },
    {
      "cell_type": "markdown",
      "source": [
        "Stats"
      ],
      "metadata": {
        "id": "3pP9xDmM9LCm"
      }
    },
    {
      "cell_type": "code",
      "source": [
        "np.array([1.65432, 5.98765]).round(2)"
      ],
      "metadata": {
        "colab": {
          "base_uri": "https://localhost:8080/"
        },
        "id": "rhIzxpfV9Mcr",
        "outputId": "69381688-5934-462f-f69f-3f8564ffaa04"
      },
      "execution_count": null,
      "outputs": [
        {
          "output_type": "execute_result",
          "data": {
            "text/plain": [
              "array([1.65, 5.99])"
            ]
          },
          "metadata": {},
          "execution_count": 157
        }
      ]
    },
    {
      "cell_type": "code",
      "source": [
        "nums = np.arange(0, 4, 0.2555)\n",
        "nums"
      ],
      "metadata": {
        "colab": {
          "base_uri": "https://localhost:8080/"
        },
        "id": "8No77rY_9UkJ",
        "outputId": "4a69277f-5b63-40f8-d896-37e4a06aeeef"
      },
      "execution_count": null,
      "outputs": [
        {
          "output_type": "execute_result",
          "data": {
            "text/plain": [
              "array([0.    , 0.2555, 0.511 , 0.7665, 1.022 , 1.2775, 1.533 , 1.7885,\n",
              "       2.044 , 2.2995, 2.555 , 2.8105, 3.066 , 3.3215, 3.577 , 3.8325])"
            ]
          },
          "metadata": {},
          "execution_count": 159
        }
      ]
    },
    {
      "cell_type": "markdown",
      "source": [
        "Compute min, max, sum, mean, median, variance, and standard deviation of the above array, all to to 2 decimal places."
      ],
      "metadata": {
        "id": "JrA_wHI99gN1"
      }
    },
    {
      "cell_type": "code",
      "source": [
        "print(\"min = \", np.min(nums).round(2))\n",
        "print(\"max = \", np.max(nums).round(2))\n",
        "print(\"sum = \", np.sum(nums).round(2))\n",
        "print(\"mean = \", np.mean(nums).round(2))#sum/total\n",
        "print(\"median = \", np.median(nums).round(2))#numof value+1/2\n",
        "print(\"var = \", np.var(nums).round(2))\n",
        "print(\"std = \", np.std(nums).round(2))"
      ],
      "metadata": {
        "colab": {
          "base_uri": "https://localhost:8080/"
        },
        "id": "u4N1N14k9lBB",
        "outputId": "37e54c01-dd5c-419b-94a6-73583079a361"
      },
      "execution_count": null,
      "outputs": [
        {
          "output_type": "stream",
          "name": "stdout",
          "text": [
            "min =  0.0\n",
            "max =  3.83\n",
            "sum =  30.66\n",
            "mean =  1.92\n",
            "median =  1.92\n",
            "var =  1.39\n",
            "std =  1.18\n"
          ]
        }
      ]
    },
    {
      "cell_type": "markdown",
      "source": [
        "**Random**"
      ],
      "metadata": {
        "id": "7ez11UjV-jkY"
      }
    },
    {
      "cell_type": "markdown",
      "source": [
        "With np.random, we can generate a number of types of dataset, and create training data.\n",
        "\n",
        "The below code simulates a fair coin toss."
      ],
      "metadata": {
        "id": "PZReKwZM-pS0"
      }
    },
    {
      "cell_type": "code",
      "source": [
        "flip = np.random.choice([0,1], 10)\n",
        "flip"
      ],
      "metadata": {
        "colab": {
          "base_uri": "https://localhost:8080/"
        },
        "id": "Ae15Htz9-ruE",
        "outputId": "96b458ef-e6d2-4f33-f054-4bad67174b0e"
      },
      "execution_count": null,
      "outputs": [
        {
          "output_type": "execute_result",
          "data": {
            "text/plain": [
              "array([0, 0, 0, 1, 1, 0, 1, 1, 1, 1])"
            ]
          },
          "metadata": {},
          "execution_count": 161
        }
      ]
    },
    {
      "cell_type": "code",
      "source": [
        "np.random.rand(10,20,9)"
      ],
      "metadata": {
        "colab": {
          "base_uri": "https://localhost:8080/"
        },
        "id": "qnxxzOHh-9I-",
        "outputId": "53a55e92-9203-4d02-9372-49dcbf4caf36"
      },
      "execution_count": null,
      "outputs": [
        {
          "output_type": "execute_result",
          "data": {
            "text/plain": [
              "array([[[0.1374034 , 0.85605999, 0.29339844, ..., 0.64383782,\n",
              "         0.50847221, 0.78990035],\n",
              "        [0.39886482, 0.28232812, 0.74123453, ..., 0.26582234,\n",
              "         0.10155454, 0.86320254],\n",
              "        [0.42019487, 0.71591916, 0.14798638, ..., 0.98189809,\n",
              "         0.31610399, 0.57544799],\n",
              "        ...,\n",
              "        [0.24257642, 0.69048082, 0.93669459, ..., 0.84241711,\n",
              "         0.02338359, 0.88523826],\n",
              "        [0.63564278, 0.89277977, 0.14949448, ..., 0.03249512,\n",
              "         0.76045774, 0.14442944],\n",
              "        [0.72779191, 0.72041472, 0.48513294, ..., 0.93038648,\n",
              "         0.18631387, 0.59688345]],\n",
              "\n",
              "       [[0.59814785, 0.25619734, 0.48747136, ..., 0.89731895,\n",
              "         0.80792012, 0.03696909],\n",
              "        [0.56726996, 0.25556254, 0.85885798, ..., 0.90546884,\n",
              "         0.18639314, 0.32431493],\n",
              "        [0.79203093, 0.81391006, 0.66921735, ..., 0.10927355,\n",
              "         0.67823067, 0.09778866],\n",
              "        ...,\n",
              "        [0.07915532, 0.97021534, 0.6788185 , ..., 0.62435569,\n",
              "         0.53507751, 0.01165873],\n",
              "        [0.06521294, 0.83835539, 0.38611795, ..., 0.99573024,\n",
              "         0.50999129, 0.051161  ],\n",
              "        [0.23905806, 0.76004614, 0.32054823, ..., 0.0209002 ,\n",
              "         0.85410374, 0.8836035 ]],\n",
              "\n",
              "       [[0.38166608, 0.57643389, 0.18193355, ..., 0.13912547,\n",
              "         0.22513843, 0.97220264],\n",
              "        [0.18238305, 0.76417313, 0.173312  , ..., 0.54874612,\n",
              "         0.70641162, 0.26774161],\n",
              "        [0.07768968, 0.38370411, 0.93412609, ..., 0.61866916,\n",
              "         0.63492992, 0.61043163],\n",
              "        ...,\n",
              "        [0.94140333, 0.97236588, 0.46616544, ..., 0.24231377,\n",
              "         0.11473516, 0.98827979],\n",
              "        [0.76879372, 0.52890233, 0.54938801, ..., 0.00672671,\n",
              "         0.83226694, 0.55013285],\n",
              "        [0.6858669 , 0.4599085 , 0.5629959 , ..., 0.73244531,\n",
              "         0.57134187, 0.70005044]],\n",
              "\n",
              "       ...,\n",
              "\n",
              "       [[0.19287705, 0.13681452, 0.69472279, ..., 0.06009245,\n",
              "         0.48091293, 0.47813202],\n",
              "        [0.81596135, 0.19607271, 0.46256153, ..., 0.80261143,\n",
              "         0.8932694 , 0.34669473],\n",
              "        [0.54823328, 0.91629626, 0.97445807, ..., 0.04623893,\n",
              "         0.26670131, 0.54212398],\n",
              "        ...,\n",
              "        [0.37168855, 0.56682443, 0.50992128, ..., 0.83601319,\n",
              "         0.02283531, 0.82010777],\n",
              "        [0.82541504, 0.29394496, 0.42146334, ..., 0.31627465,\n",
              "         0.86470667, 0.17340973],\n",
              "        [0.2762351 , 0.4558759 , 0.80746893, ..., 0.3629414 ,\n",
              "         0.20942142, 0.69444589]],\n",
              "\n",
              "       [[0.3641162 , 0.42365855, 0.1824978 , ..., 0.91325884,\n",
              "         0.58898137, 0.44951085],\n",
              "        [0.5751776 , 0.75955421, 0.29571488, ..., 0.84764518,\n",
              "         0.92504527, 0.10241602],\n",
              "        [0.37138145, 0.56015779, 0.62617322, ..., 0.56474543,\n",
              "         0.27157708, 0.42880589],\n",
              "        ...,\n",
              "        [0.17125129, 0.73566629, 0.55710373, ..., 0.88341147,\n",
              "         0.43176339, 0.27487601],\n",
              "        [0.3272951 , 0.56002299, 0.72156167, ..., 0.83949406,\n",
              "         0.10792701, 0.35850654],\n",
              "        [0.35358735, 0.53319899, 0.10350056, ..., 0.34457089,\n",
              "         0.20420686, 0.41255419]],\n",
              "\n",
              "       [[0.96297084, 0.47377516, 0.77147952, ..., 0.41193458,\n",
              "         0.17093672, 0.87404703],\n",
              "        [0.91887528, 0.32960768, 0.66489623, ..., 0.94111702,\n",
              "         0.722848  , 0.07184405],\n",
              "        [0.17607994, 0.25751785, 0.09208488, ..., 0.67451061,\n",
              "         0.37085915, 0.55420553],\n",
              "        ...,\n",
              "        [0.60078444, 0.59011435, 0.55374277, ..., 0.16366225,\n",
              "         0.4627442 , 0.12435797],\n",
              "        [0.59695445, 0.52353732, 0.96456568, ..., 0.92912109,\n",
              "         0.43472331, 0.95452488],\n",
              "        [0.53571708, 0.25434886, 0.6833859 , ..., 0.77344234,\n",
              "         0.02295109, 0.94965903]]])"
            ]
          },
          "metadata": {},
          "execution_count": 162
        }
      ]
    },
    {
      "cell_type": "markdown",
      "source": [
        "We can produce 1000 datapoints of a normally distributed data set by using np.random.normal()"
      ],
      "metadata": {
        "id": "HwtOFKjn_H-H"
      }
    },
    {
      "cell_type": "code",
      "source": [
        "mu, sigma = 0, 0.1 # mean and standard deviation\n",
        "s = np.random.normal(mu, sigma, 1000)\n",
        "s"
      ],
      "metadata": {
        "colab": {
          "base_uri": "https://localhost:8080/"
        },
        "id": "Kae3SGff_KNf",
        "outputId": "ed190b86-f31e-4a66-9658-40db788e0ab7"
      },
      "execution_count": null,
      "outputs": [
        {
          "output_type": "execute_result",
          "data": {
            "text/plain": [
              "array([-4.54902587e-02, -1.52070155e-01, -6.60983079e-02, -7.06598220e-02,\n",
              "       -1.13118215e-01, -8.00469699e-03,  6.82373483e-02,  3.53116735e-02,\n",
              "        5.95068252e-02,  1.24998247e-02,  7.06843786e-02,  8.11931186e-02,\n",
              "        4.90278710e-02, -1.36415549e-01,  1.22179902e-01,  1.05196174e-01,\n",
              "        5.02899839e-02, -8.48974303e-02,  5.56934908e-02,  9.86729306e-02,\n",
              "       -7.52980321e-02, -1.85675320e-02, -4.82034198e-02,  1.25372047e-02,\n",
              "       -5.01557583e-02,  3.75052767e-02,  8.54109161e-02,  8.76607566e-02,\n",
              "        2.61070781e-02,  1.85167704e-01,  1.00552784e-01, -6.10082877e-02,\n",
              "        7.69471199e-02, -1.62229529e-01,  7.40850634e-02,  1.34197261e-01,\n",
              "        3.30625248e-02, -1.36570441e-02, -1.60263937e-01, -7.54281487e-02,\n",
              "        1.78260858e-02,  1.84525402e-01, -1.40083648e-02,  1.36378992e-01,\n",
              "       -3.37456614e-02, -5.72877661e-02,  1.54593458e-01, -3.96509551e-02,\n",
              "        1.18827577e-01, -9.31886228e-02,  6.83180979e-02,  1.21734874e-01,\n",
              "        5.89009469e-02, -2.02654615e-02,  1.26995034e-01, -5.52708212e-02,\n",
              "        7.47740417e-02,  2.46567270e-02,  3.16454057e-02, -3.14323744e-02,\n",
              "        1.00193340e-01, -3.88086020e-02,  1.20905855e-02,  2.08331593e-02,\n",
              "        1.09722146e-01, -1.09523769e-01,  2.91825795e-02,  1.47252420e-02,\n",
              "       -7.49134163e-02,  2.29774706e-01, -1.55154957e-03,  1.83266548e-02,\n",
              "        3.56386673e-03, -3.23273638e-02, -1.20049468e-02,  9.00914122e-02,\n",
              "        4.55079901e-02,  1.31369047e-02, -1.53686812e-01, -2.11962711e-01,\n",
              "        3.37614840e-02,  1.01930751e-01, -7.29345424e-02,  5.84434151e-02,\n",
              "       -5.45852679e-02, -8.88710797e-03,  5.47035658e-03,  1.00085483e-01,\n",
              "        9.84746199e-04, -7.07848642e-02,  1.80103053e-02,  1.68565204e-01,\n",
              "        1.68265532e-02, -4.67289407e-02,  1.21308834e-01, -2.69961028e-02,\n",
              "        4.20534905e-02, -1.07533008e-01, -6.96065378e-02, -9.28321322e-02,\n",
              "        1.37208356e-01,  4.55694388e-02,  6.19716861e-02, -2.26548021e-01,\n",
              "       -9.36472461e-02,  7.31043195e-03, -1.45693829e-03,  2.05664376e-01,\n",
              "        1.07018783e-01, -9.21424985e-02,  1.14189793e-01, -1.16083659e-01,\n",
              "       -6.02162356e-02, -2.58094294e-02, -3.25498273e-01,  4.34432859e-03,\n",
              "        3.94527016e-02,  3.18387184e-02, -4.47647175e-02, -7.23280946e-02,\n",
              "       -1.08495544e-01, -2.27530397e-02, -8.69171334e-02,  9.04469400e-02,\n",
              "        2.64958372e-02,  1.69178292e-02, -5.81759626e-02,  6.01633597e-02,\n",
              "        1.55651200e-02, -1.02487396e-01, -9.97629550e-02,  6.21665228e-02,\n",
              "       -6.04344713e-02, -1.56837196e-02,  3.68825252e-02,  1.22647768e-01,\n",
              "       -7.05047471e-02,  1.08867305e-01,  1.35584877e-01, -9.93997624e-02,\n",
              "       -1.09325510e-01, -1.40902929e-01,  9.24700195e-02,  6.76109960e-02,\n",
              "        5.82740188e-02, -4.05392667e-02, -6.27053676e-02,  4.83952411e-02,\n",
              "        9.26940271e-02, -6.99092433e-02,  8.52041052e-02, -8.56114461e-02,\n",
              "        1.37105073e-01,  2.43541595e-01,  3.68722916e-04, -2.05659213e-02,\n",
              "        1.29410947e-01, -6.64995636e-02,  1.12378138e-04, -1.68635691e-01,\n",
              "       -1.42613590e-01, -1.52592874e-02,  1.49218056e-01, -7.16817859e-02,\n",
              "       -2.26869649e-02, -1.13952438e-01, -3.40383692e-03,  1.09335951e-01,\n",
              "       -1.00928190e-01, -7.49354763e-03, -8.88800784e-02,  1.29503112e-01,\n",
              "       -2.25081236e-02, -6.40593326e-02, -2.16620736e-01,  9.48387296e-02,\n",
              "        5.89934640e-02,  9.90030904e-02,  1.05207817e-02,  2.59285318e-02,\n",
              "        5.36346724e-03,  6.79439535e-02,  2.29839065e-02,  3.70454663e-02,\n",
              "        4.16083787e-02,  5.34239442e-02,  3.77101903e-03, -2.08834649e-02,\n",
              "       -7.84813567e-02, -7.01588308e-02, -7.68548514e-02,  9.37260057e-02,\n",
              "       -9.36394791e-02, -1.07434473e-01,  1.85999825e-02, -2.60790616e-02,\n",
              "       -7.81102851e-03, -4.61560337e-04,  1.02530976e-02, -9.22894426e-02,\n",
              "        4.14512163e-02, -5.26873507e-02,  1.36328843e-01,  1.67863162e-01,\n",
              "       -4.44948616e-02, -7.95875460e-02, -1.29019870e-02, -4.06462285e-02,\n",
              "       -3.92639174e-02, -6.19355824e-02,  7.47216512e-03, -5.85792921e-02,\n",
              "        1.56577420e-02, -1.00657927e-01, -4.47855959e-02,  9.16715933e-02,\n",
              "        1.99016967e-02, -1.58088287e-01,  6.84186473e-02,  3.29624850e-02,\n",
              "       -4.57788494e-02, -2.97011916e-01, -9.81323582e-03,  1.36386879e-02,\n",
              "       -5.80391328e-02, -8.01217972e-02, -5.38494311e-02, -3.84965125e-02,\n",
              "       -5.05631842e-02,  1.00347959e-01,  1.58024468e-02,  7.75888495e-02,\n",
              "        1.20106334e-01,  8.34562265e-02,  3.32747807e-02,  1.06461319e-02,\n",
              "       -4.17851433e-02,  7.18688718e-02,  1.10798203e-01,  1.42009997e-01,\n",
              "        8.87027233e-02, -4.37507768e-02, -1.75209160e-02,  7.97570662e-03,\n",
              "       -4.74443629e-02,  8.08953595e-02, -1.59262126e-01,  1.43377415e-01,\n",
              "        2.96096123e-02, -5.26381421e-02, -3.80152446e-02, -1.64001925e-01,\n",
              "       -3.60241236e-02, -8.58723650e-02,  7.83462586e-02,  1.35041205e-01,\n",
              "       -8.80529708e-02, -4.89927781e-02, -3.76993913e-02, -7.04797244e-02,\n",
              "       -6.20778580e-02, -6.20056437e-02,  7.22581565e-02, -9.99344788e-02,\n",
              "        1.94663906e-02, -1.39695684e-01,  9.25516710e-02,  7.88554637e-02,\n",
              "       -1.63504776e-01,  2.00687364e-01,  4.07300759e-02,  3.50321174e-02,\n",
              "        7.34125663e-02,  1.69088542e-02, -1.19558486e-01, -9.46443408e-02,\n",
              "        1.23877789e-02,  1.21487760e-01, -1.48515946e-03,  7.37147559e-02,\n",
              "       -8.00919487e-02, -1.28766799e-01,  3.16155368e-02,  2.35929150e-02,\n",
              "       -2.25672174e-01, -7.40823408e-02, -4.85155371e-02,  1.52624391e-01,\n",
              "        1.93387499e-02, -7.44366155e-02, -4.03433801e-02, -1.31779325e-01,\n",
              "       -9.53233495e-02,  5.06039934e-02, -3.13199923e-02,  1.24199893e-01,\n",
              "        1.59766915e-01,  7.87513728e-03, -8.77273271e-03,  8.33215181e-02,\n",
              "        8.23765321e-03, -6.60204492e-02,  1.55017694e-01,  1.38409915e-01,\n",
              "       -4.40681237e-02, -1.70351626e-01, -5.74952549e-02,  3.06640455e-02,\n",
              "       -1.23691607e-01,  9.58809013e-02,  4.54402727e-02, -1.38860920e-02,\n",
              "        3.53583243e-02, -9.63129432e-02, -2.78762266e-02, -2.27159517e-02,\n",
              "       -2.66185773e-02,  2.51164020e-02, -5.68476424e-02, -9.72059539e-02,\n",
              "        7.39678188e-02,  5.48076217e-02,  9.18392707e-02,  6.29405444e-02,\n",
              "        8.87362866e-02, -3.00254617e-02, -7.93436245e-03,  1.11660083e-01,\n",
              "        4.11554891e-02,  3.41783941e-02, -2.84703622e-02, -7.59243612e-02,\n",
              "       -1.80940161e-02,  1.43084507e-02, -1.73328667e-01, -7.88620626e-02,\n",
              "       -1.83158827e-01,  1.23019294e-01, -1.55241123e-01,  1.32314108e-01,\n",
              "       -3.08821855e-02, -9.77133590e-02,  1.54814343e-01, -1.16824570e-01,\n",
              "        2.05664200e-01,  7.31537285e-02,  1.02730487e-01, -1.02921701e-01,\n",
              "        6.18214513e-02,  4.27333261e-02,  7.79535495e-02, -4.33353450e-02,\n",
              "        8.00071244e-02, -1.85451916e-01,  1.07500403e-01,  3.31912696e-02,\n",
              "        6.61603100e-02,  6.48183547e-02,  1.61853772e-02,  6.67679419e-02,\n",
              "       -5.67678801e-02, -2.49134068e-01,  2.21146963e-01, -1.57446166e-02,\n",
              "       -1.93356340e-01,  7.37947487e-02, -1.16165584e-01,  3.20941338e-01,\n",
              "       -5.67735315e-02, -1.08185560e-01,  7.52678925e-02, -2.63940195e-02,\n",
              "       -7.76496299e-02,  3.74121957e-03,  1.77706408e-01,  8.18841355e-02,\n",
              "        1.39023425e-01,  1.83989752e-02, -8.66759710e-02, -1.39763622e-02,\n",
              "       -9.72636407e-02, -3.35237597e-02,  5.78644669e-02,  2.60582335e-02,\n",
              "        9.20655037e-02, -1.24617767e-01,  4.39703799e-02,  5.70582863e-02,\n",
              "        9.73207564e-02,  7.28194564e-02,  8.36881690e-02,  8.19193561e-02,\n",
              "        2.28708445e-02,  9.40271796e-02,  7.40347552e-02,  1.62107049e-02,\n",
              "        1.96792385e-03, -2.91709919e-02, -1.09747529e-01,  3.66415072e-02,\n",
              "       -1.97346186e-01,  6.37755294e-02,  1.05284198e-01,  9.17505836e-03,\n",
              "       -1.65368829e-01,  1.50699825e-01, -5.34686445e-02, -6.78296194e-02,\n",
              "        7.83585961e-02,  2.09101238e-01, -1.35822953e-01,  1.19679767e-01,\n",
              "        4.67004438e-02, -4.14337854e-02,  1.00421744e-01,  1.44467033e-01,\n",
              "       -8.80599263e-02, -6.47602570e-02, -7.36346405e-02, -4.54330453e-02,\n",
              "        8.91692301e-02,  1.76853209e-02, -5.26157747e-03, -1.47781993e-02,\n",
              "        3.74782883e-02, -1.01910408e-01, -5.04865069e-02,  3.70255225e-02,\n",
              "       -3.69918581e-02, -1.96937357e-01,  1.62179563e-02,  3.12589103e-02,\n",
              "       -4.42186326e-02, -3.17268543e-02,  2.88066034e-02,  7.41922268e-02,\n",
              "        1.11946260e-01,  6.06694940e-02,  5.46113096e-02, -5.47349965e-02,\n",
              "        1.88839552e-01, -9.08203662e-02, -2.43385547e-02,  1.97034133e-01,\n",
              "        1.57376760e-01, -1.17457485e-01, -1.02282883e-01,  6.43971594e-02,\n",
              "        1.17702137e-01,  7.07884984e-02,  4.74683432e-02, -4.49451979e-02,\n",
              "        5.63785804e-02, -1.34352990e-01,  1.71741706e-01,  1.58421671e-01,\n",
              "        3.56779216e-02, -1.74226421e-01,  1.76649556e-01,  6.47205637e-02,\n",
              "       -1.90866375e-04, -9.48484571e-02, -2.04355393e-01,  9.77233635e-02,\n",
              "       -1.04891213e-01, -4.75994638e-02, -9.93200768e-02, -7.61972131e-02,\n",
              "       -1.36154901e-01,  9.15431608e-04, -1.51804499e-02,  1.09628544e-01,\n",
              "       -2.59084072e-03,  2.68340748e-02,  1.71205430e-01, -1.01505253e-01,\n",
              "       -1.72842740e-02,  6.36871639e-02, -1.88749297e-01,  1.23023176e-01,\n",
              "       -7.74045318e-02,  1.85331167e-01, -7.05582782e-02,  1.58011062e-01,\n",
              "       -8.10398457e-02,  1.56405550e-01, -2.52650586e-02, -1.47830764e-01,\n",
              "       -3.85031546e-02,  1.04606524e-01,  1.03856378e-02,  1.94943642e-02,\n",
              "        6.16793168e-02, -2.00090591e-02, -1.85001977e-01, -5.15296559e-02,\n",
              "       -1.80198385e-01, -3.45271333e-02, -7.94313636e-02,  1.50724391e-02,\n",
              "       -9.74100661e-02, -6.65823389e-02,  1.50590425e-02, -4.37965054e-02,\n",
              "       -1.09866477e-01, -9.98847541e-02,  7.46843359e-02,  2.03988044e-01,\n",
              "        4.46479712e-02, -4.04556131e-03,  3.06567009e-02,  3.13387846e-02,\n",
              "       -1.81461776e-03, -7.79977506e-02,  1.70632175e-01, -1.08514768e-02,\n",
              "        6.16182006e-02, -3.38407440e-02,  1.66344347e-01,  3.04528798e-02,\n",
              "       -1.35825123e-01,  2.34496500e-02, -9.27362487e-02, -8.31303202e-02,\n",
              "       -1.41073059e-01,  9.51875675e-02, -5.56531767e-02,  9.73128472e-02,\n",
              "        9.33264522e-02, -1.26200945e-01,  4.81967865e-02, -4.20693411e-02,\n",
              "       -8.35658263e-02, -8.06352080e-02,  5.61808776e-02, -9.01584314e-02,\n",
              "       -3.95854095e-02,  1.63352608e-01, -7.51035102e-02,  1.97438134e-02,\n",
              "       -8.56133423e-02,  5.06953290e-02,  1.80223403e-01, -1.05042972e-01,\n",
              "       -5.69416243e-02,  1.26937325e-01, -5.14313563e-03,  1.58294451e-01,\n",
              "       -3.01987563e-02, -4.37630088e-02,  4.12787950e-02, -6.70620802e-03,\n",
              "       -1.49500251e-01, -2.61479526e-02,  6.40907655e-02, -2.64855781e-01,\n",
              "       -9.26513824e-02, -6.80065919e-02,  2.95569343e-03,  2.68444194e-02,\n",
              "        2.36541010e-02,  7.45438467e-02,  1.23944572e-02,  2.30578915e-02,\n",
              "        4.10989358e-02,  2.00933626e-02, -1.87264264e-01, -6.09590236e-02,\n",
              "        1.21229019e-01,  8.29570218e-02, -6.15991032e-03, -8.13672276e-02,\n",
              "        2.81109788e-02,  2.64652462e-01, -5.65250496e-03,  1.59404172e-02,\n",
              "        1.54758375e-01, -2.30573102e-02, -2.11986355e-02,  1.62618872e-02,\n",
              "        2.16877793e-03,  4.52055563e-02,  9.07175369e-02,  1.26827872e-01,\n",
              "       -6.47534508e-02,  1.92450314e-02,  1.18569593e-01, -1.23060477e-02,\n",
              "        1.38786883e-01,  2.42165735e-02, -2.13918454e-02,  5.15487239e-03,\n",
              "       -1.47036588e-01,  9.91655972e-02, -1.30302527e-01, -8.62207418e-03,\n",
              "        2.00745370e-01, -7.02217833e-02, -2.02125238e-01,  5.13923720e-02,\n",
              "       -4.18636035e-02,  7.04320825e-02,  1.50435910e-01, -1.61812684e-01,\n",
              "        6.32375557e-02,  1.31282205e-01, -8.05224936e-02,  2.22447219e-01,\n",
              "        1.34122537e-01,  1.36327943e-01,  1.11847591e-01,  1.36921997e-02,\n",
              "       -1.61423170e-01, -6.47621472e-04, -1.04536597e-02,  1.86695071e-01,\n",
              "        3.93170080e-02,  3.35016098e-02, -9.23200384e-02,  2.33626414e-02,\n",
              "        5.93896769e-02, -1.19274473e-02, -1.41705244e-01, -9.01669026e-02,\n",
              "        3.80491987e-03, -1.01090911e-02, -6.45448846e-02,  5.21656472e-03,\n",
              "       -1.31660270e-01, -1.43786224e-01, -7.80881180e-02, -1.36608510e-01,\n",
              "       -5.90589489e-02,  8.15832303e-02,  3.23320022e-02,  1.38437454e-01,\n",
              "       -9.07206873e-02,  1.31594719e-01,  1.96086279e-01, -1.46959985e-01,\n",
              "       -5.05680157e-03,  9.47472615e-02, -8.13216354e-02, -1.10666747e-02,\n",
              "        1.95792333e-02,  8.81398522e-02, -1.69319381e-02,  5.57476835e-02,\n",
              "        5.88421433e-02,  1.36838510e-01,  1.45291769e-01, -2.17490505e-02,\n",
              "       -4.56638664e-02, -4.91784172e-02,  1.37244553e-01,  3.39482403e-02,\n",
              "        1.61936441e-02, -7.36301090e-02, -7.39193205e-02, -5.85059966e-02,\n",
              "        2.58661721e-02, -1.27824386e-01, -1.50055652e-01,  4.83322575e-02,\n",
              "        2.33636825e-02, -2.28143441e-01,  4.84992504e-02,  5.28401393e-02,\n",
              "        6.30560739e-02, -9.28643863e-02, -4.15445689e-02,  7.02845736e-02,\n",
              "        1.16041927e-01,  4.49740035e-02, -8.26312030e-03, -1.52002437e-01,\n",
              "       -9.90236536e-02, -4.46063485e-02,  1.66263227e-01, -2.89571551e-01,\n",
              "       -1.01660533e-01,  2.49613350e-02, -7.64506368e-02, -2.45683582e-02,\n",
              "        8.45140910e-02, -4.11799113e-02, -4.91541895e-02,  3.55261916e-02,\n",
              "       -6.22666792e-02,  9.62833700e-02, -6.22117113e-02, -6.53866976e-02,\n",
              "       -1.68669592e-02,  1.20316784e-01,  3.67024203e-02, -1.93069488e-02,\n",
              "       -1.17194473e-01, -5.82467186e-02, -7.25518932e-02,  6.40942383e-02,\n",
              "       -5.53551177e-03, -2.19892194e-02, -6.40439429e-02, -1.72438025e-02,\n",
              "        1.67643665e-01, -1.36684979e-02, -1.36318336e-01, -9.72270791e-02,\n",
              "        6.34305258e-02, -4.88792938e-02, -1.14686488e-01,  8.37898949e-02,\n",
              "        1.49811990e-01, -9.55291401e-02, -1.45258567e-01, -4.77891648e-02,\n",
              "        4.34761397e-02,  6.37140696e-02, -4.39978105e-02,  1.44002304e-02,\n",
              "        1.59376739e-01,  4.26515745e-02,  6.41955098e-02,  1.97992898e-02,\n",
              "        1.76478574e-01, -5.08113843e-02, -1.91190389e-02, -9.92189405e-02,\n",
              "       -8.07468038e-02, -1.21738131e-01,  1.87251237e-01,  7.60769020e-02,\n",
              "        2.80404346e-02, -7.42663297e-02,  4.38393494e-02,  9.09125754e-02,\n",
              "        9.78500493e-02,  6.50072039e-02, -1.96963109e-01, -1.64198894e-02,\n",
              "        1.11128766e-01, -6.06735758e-02, -1.52484229e-02,  7.27705603e-02,\n",
              "       -6.03291472e-03, -1.42172426e-01, -1.40207067e-01,  8.16950212e-02,\n",
              "       -3.01312372e-01,  1.85026323e-02,  1.78715796e-01, -1.94663077e-02,\n",
              "       -1.14906347e-01, -6.79037806e-04, -5.35990313e-02, -2.08484984e-02,\n",
              "        8.32824606e-02,  1.12959194e-01,  4.56121965e-02, -8.09379947e-02,\n",
              "        1.25369885e-01, -2.21844714e-01, -1.26005028e-01, -2.61067127e-02,\n",
              "       -3.02484333e-02,  4.42504861e-02,  1.04033040e-01, -5.82245799e-02,\n",
              "        4.06874480e-02,  1.22207400e-01,  8.72862019e-02,  1.53524329e-01,\n",
              "       -1.69847814e-01, -4.47639917e-02,  2.18284502e-02, -1.92038702e-02,\n",
              "       -2.79990468e-03,  1.15464849e-01, -1.25139582e-02,  1.23995699e-01,\n",
              "       -1.29584870e-01,  2.00302158e-01,  5.44124726e-02, -1.52861427e-02,\n",
              "       -4.58082294e-02, -4.25696448e-02,  9.39741219e-02, -1.73978608e-03,\n",
              "       -4.35469594e-02, -1.13164270e-01,  4.15946485e-02, -4.73968158e-03,\n",
              "       -5.97764773e-02, -3.21687662e-02,  8.39909237e-02, -1.11294763e-01,\n",
              "        2.03039381e-01,  9.65467365e-02, -2.85383315e-02, -5.81152771e-02,\n",
              "       -6.63434497e-02, -1.10709953e-01,  5.61327237e-03,  6.63479637e-02,\n",
              "        9.87918995e-02, -6.30319614e-02,  1.41987128e-01,  3.58064475e-02,\n",
              "        2.43403428e-01, -2.21976827e-01, -2.37329793e-01,  1.95681950e-01,\n",
              "        9.59974053e-02, -1.05757195e-01, -2.81138406e-01, -4.96200731e-02,\n",
              "       -5.25673168e-03, -1.14077720e-02,  7.49236564e-02,  3.46288382e-03,\n",
              "       -7.95881350e-02, -3.84093148e-02,  9.15759675e-02,  5.31040364e-03,\n",
              "       -1.20476829e-02, -9.53854261e-02,  1.35665992e-01,  2.45062692e-02,\n",
              "        2.02510278e-01, -5.86546863e-02,  1.35096420e-01, -2.70141705e-02,\n",
              "       -1.34255720e-01, -4.87222900e-02, -2.95142700e-02,  7.80658019e-02,\n",
              "        8.09617032e-03, -6.64175299e-02,  5.19103347e-02,  8.72442966e-02,\n",
              "        1.22015578e-01, -8.76235599e-02, -2.91069826e-02, -1.15149971e-01,\n",
              "        3.70828318e-02, -1.72230208e-01, -1.66497462e-01,  1.34786323e-01,\n",
              "       -9.59792514e-02, -2.84054653e-02,  1.18314915e-01,  1.98423471e-02,\n",
              "        1.95259356e-02, -3.03298740e-02, -6.35700521e-02,  4.87121811e-02,\n",
              "        4.73291476e-02, -3.41404589e-02,  5.65927480e-02, -8.98663636e-02,\n",
              "        3.04058470e-03,  2.47667963e-02,  2.02637779e-01, -1.31225791e-01,\n",
              "        1.49211528e-01, -1.60643612e-01, -1.03751295e-02,  1.08973057e-01,\n",
              "       -2.06450100e-02,  7.02501496e-03,  7.15343528e-02,  2.16096930e-02,\n",
              "        1.49895226e-01,  4.02630387e-02, -6.14080846e-02,  5.17532345e-02,\n",
              "       -6.51035179e-02,  6.18844022e-02, -1.30450270e-03,  1.22361974e-01,\n",
              "       -1.60894047e-01,  9.56827990e-02, -1.62725926e-02,  1.95074645e-02,\n",
              "        2.15466026e-02, -5.20931007e-02, -6.09251501e-03,  9.21350556e-03,\n",
              "        2.06596990e-01,  9.36068919e-02,  3.47649626e-02,  2.82073009e-03,\n",
              "       -2.74008702e-01, -6.43945892e-03,  6.47620022e-02,  3.12583425e-02,\n",
              "       -3.01686308e-02, -3.83746601e-02,  3.52574218e-02,  6.45263796e-02,\n",
              "        5.15394823e-03,  8.39199749e-02,  2.14744919e-02,  2.69801960e-02,\n",
              "       -1.77665440e-02,  2.71791448e-02, -1.00486539e-01,  9.24693125e-02,\n",
              "        1.04227487e-02, -6.14073311e-03, -3.07622272e-02, -6.53156952e-02,\n",
              "       -1.34084155e-01,  1.55228011e-01, -1.30569206e-01,  1.33959924e-01,\n",
              "       -3.64598436e-02, -7.79344307e-04, -4.23529634e-02,  1.10606382e-01,\n",
              "        1.59707181e-01,  7.97873529e-02, -5.79418706e-02,  5.81458685e-02,\n",
              "        6.85936220e-02,  7.12183532e-02,  7.43845160e-02, -9.36941255e-02,\n",
              "        5.45726626e-02, -1.12721534e-01, -4.03959682e-02,  1.17814830e-01,\n",
              "       -7.36193845e-02, -7.77597490e-02,  6.86049409e-02,  1.36049972e-01,\n",
              "       -1.80371240e-01, -1.80020711e-01, -3.76483656e-02, -1.42375637e-01,\n",
              "       -9.53978999e-02,  8.84534077e-02,  1.38576722e-01, -9.91847610e-02,\n",
              "        5.38465709e-03,  1.68645492e-02, -9.29839934e-02, -1.10639262e-01,\n",
              "       -1.28738978e-01, -3.66255859e-02, -2.56368783e-02,  1.12260494e-02,\n",
              "       -1.63974351e-01, -1.01221739e-01,  1.56470512e-01,  1.34350300e-01,\n",
              "       -2.97554732e-02,  2.41680835e-02,  2.85793270e-01,  3.23204762e-02,\n",
              "       -7.96974843e-02, -1.13304550e-02,  4.44902656e-03,  2.89491862e-03,\n",
              "       -1.32129454e-02,  1.10377750e-01, -5.28866920e-02, -3.62686572e-02,\n",
              "        2.20468543e-01, -8.01985061e-02, -6.48615120e-02,  7.07011599e-02,\n",
              "       -1.16076899e-01,  6.35776208e-02,  4.69308007e-03, -1.46241030e-01,\n",
              "        2.54165438e-02,  3.39217024e-03,  6.10580911e-03,  1.05676259e-01,\n",
              "        7.52816753e-02, -3.31532455e-02, -1.10748693e-01, -8.06361131e-02,\n",
              "       -1.99763636e-02, -1.19524231e-01,  4.36037944e-02,  9.50218557e-03,\n",
              "        1.06077996e-01,  5.00653874e-02,  2.70362159e-02, -1.88905354e-02,\n",
              "        7.90581069e-02,  1.86628321e-02,  1.55862140e-01,  1.62579798e-01,\n",
              "       -2.53567200e-02, -1.27971181e-01, -4.79762676e-03, -2.24162888e-02])"
            ]
          },
          "metadata": {},
          "execution_count": 164
        }
      ]
    },
    {
      "cell_type": "markdown",
      "source": [
        "Exercise\n",
        "Simulate a six-sided dice using numpy.random.choice(), generate a list of values you would obtain from 10 throws."
      ],
      "metadata": {
        "id": "b9-alK9t_aDH"
      }
    },
    {
      "cell_type": "code",
      "source": [
        "coin = np.random.choice([1,2,3,4,5,6],10)\n",
        "coin"
      ],
      "metadata": {
        "colab": {
          "base_uri": "https://localhost:8080/"
        },
        "id": "qffDsYc2AZRe",
        "outputId": "a91b53f5-37b2-4188-8715-0ae6eb816b74"
      },
      "execution_count": null,
      "outputs": [
        {
          "output_type": "execute_result",
          "data": {
            "text/plain": [
              "array([2, 1, 1, 3, 5, 2, 1, 2, 1, 1])"
            ]
          },
          "metadata": {},
          "execution_count": 179
        }
      ]
    },
    {
      "cell_type": "markdown",
      "source": [
        "Simulate a two-sided coin toss that is NOT fair: it is twice as likely to have head than tails."
      ],
      "metadata": {
        "id": "7tkNcPXtA0L6"
      }
    },
    {
      "cell_type": "code",
      "source": [
        "coin=np.random.choice(['head','head','tail'],2)\n",
        "coin"
      ],
      "metadata": {
        "colab": {
          "base_uri": "https://localhost:8080/"
        },
        "id": "B13nZX2EA2cM",
        "outputId": "f96b721c-95dd-4334-99bc-d8d38c927f2c"
      },
      "execution_count": null,
      "outputs": [
        {
          "output_type": "execute_result",
          "data": {
            "text/plain": [
              "array(['head', 'head'], dtype='<U4')"
            ]
          },
          "metadata": {},
          "execution_count": 174
        }
      ]
    }
  ]
}