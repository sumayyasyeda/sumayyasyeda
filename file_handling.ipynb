{
  "cells": [
    {
      "cell_type": "markdown",
      "metadata": {
        "id": "view-in-github",
        "colab_type": "text"
      },
      "source": [
        "<a href=\"https://colab.research.google.com/github/sumayyasyeda/sumayyasyeda/blob/main/file_handling.ipynb\" target=\"_parent\"><img src=\"https://colab.research.google.com/assets/colab-badge.svg\" alt=\"Open In Colab\"/></a>"
      ]
    },
    {
      "cell_type": "code",
      "execution_count": null,
      "metadata": {
        "colab": {
          "base_uri": "https://localhost:8080/"
        },
        "id": "5SIcbxkcc72P",
        "outputId": "a7121339-eeaf-4f01-fbb9-d104f320b87a"
      },
      "outputs": [
        {
          "name": "stdout",
          "output_type": "stream",
          "text": [
            "Writing ABC.txt\n"
          ]
        }
      ],
      "source": [
        "%%writefile ABC.txt\n",
        "a=5\n",
        "b=6\n",
        "a+b"
      ]
    },
    {
      "cell_type": "code",
      "execution_count": null,
      "metadata": {
        "colab": {
          "base_uri": "https://localhost:8080/"
        },
        "id": "K2NYLWMedKnq",
        "outputId": "370e5496-4d7e-462e-86e3-dc3c6307a5aa"
      },
      "outputs": [
        {
          "name": "stdout",
          "output_type": "stream",
          "text": [
            "Appending to ABC.txt\n"
          ]
        }
      ],
      "source": [
        "%%writefile -a ABC.txt\n",
        "\n",
        "Today is Wednesday"
      ]
    },
    {
      "cell_type": "code",
      "execution_count": null,
      "metadata": {
        "id": "1Ho4WuAcdW1h"
      },
      "outputs": [],
      "source": [
        "file = open('ABC.txt','r')"
      ]
    },
    {
      "cell_type": "code",
      "execution_count": null,
      "metadata": {
        "colab": {
          "base_uri": "https://localhost:8080/"
        },
        "id": "7dL6TM5mdckO",
        "outputId": "8e94020a-1e30-4209-c816-5fee75f8feac"
      },
      "outputs": [
        {
          "name": "stdout",
          "output_type": "stream",
          "text": [
            "a=5\n",
            "\n",
            "b=6\n",
            "\n",
            "a+b\n",
            "\n",
            "\n",
            "\n",
            "Today is Wednesday\n",
            "\n"
          ]
        }
      ],
      "source": [
        "for each in file:\n",
        "  print(each)"
      ]
    },
    {
      "cell_type": "code",
      "execution_count": null,
      "metadata": {
        "colab": {
          "base_uri": "https://localhost:8080/"
        },
        "id": "PxDpqdTndfov",
        "outputId": "ec440796-c0c4-4e0c-b7c0-5b35a2115377"
      },
      "outputs": [
        {
          "name": "stdout",
          "output_type": "stream",
          "text": [
            "a=5\n"
          ]
        }
      ],
      "source": [
        "file = open('ABC.txt','r')\n",
        "print(file.read(3))"
      ]
    },
    {
      "cell_type": "code",
      "execution_count": null,
      "metadata": {
        "colab": {
          "base_uri": "https://localhost:8080/"
        },
        "id": "Q0lJ0Uc8dpeO",
        "outputId": "aa27b66d-2852-46d5-a045-a59f29640193"
      },
      "outputs": [
        {
          "name": "stdout",
          "output_type": "stream",
          "text": [
            "a=5\n",
            "\n",
            "b=6\n",
            "\n",
            "a+b\n",
            "\n"
          ]
        }
      ],
      "source": [
        "file = open('ABC.txt','r')\n",
        "print(file.readline())\n",
        "#file.seek(0)\n",
        "print(file.readline())\n",
        "print(file.readline())"
      ]
    },
    {
      "cell_type": "code",
      "execution_count": null,
      "metadata": {
        "colab": {
          "base_uri": "https://localhost:8080/"
        },
        "id": "8JmN7DTadtvF",
        "outputId": "5148f38f-9dba-4952-b8a1-19af885acd7e"
      },
      "outputs": [
        {
          "name": "stdout",
          "output_type": "stream",
          "text": [
            "a=5\n",
            "\n",
            "a=5\n",
            "\n",
            "b=6\n",
            "\n"
          ]
        }
      ],
      "source": [
        "file = open('ABC.txt','r')\n",
        "print(file.readline())\n",
        "file.seek(0)\n",
        "print(file.readline())\n",
        "print(file.readline())"
      ]
    },
    {
      "cell_type": "code",
      "execution_count": null,
      "metadata": {
        "colab": {
          "base_uri": "https://localhost:8080/"
        },
        "id": "7V7-k8bPdwJT",
        "outputId": "ed48b4ce-5aa0-4e69-a8f5-2ef9d96b1664"
      },
      "outputs": [
        {
          "name": "stdout",
          "output_type": "stream",
          "text": [
            "['a=5\\n', 'b=6\\n', 'a+b\\n', '\\n', 'Today is Wednesday\\n']\n"
          ]
        }
      ],
      "source": [
        "file = open('ABC.txt','r')\n",
        "print(file.readlines())"
      ]
    },
    {
      "cell_type": "code",
      "execution_count": null,
      "metadata": {
        "colab": {
          "base_uri": "https://localhost:8080/"
        },
        "id": "cxh4rR-od8hR",
        "outputId": "8fa407dc-6796-40d7-dec5-af1014cd14e3"
      },
      "outputs": [
        {
          "name": "stdout",
          "output_type": "stream",
          "text": [
            "a=5\n",
            "\n"
          ]
        }
      ],
      "source": [
        "file = open('ABC.txt','r')\n",
        "print(file.readline())"
      ]
    },
    {
      "cell_type": "code",
      "execution_count": null,
      "metadata": {
        "id": "WN-1_W-veEZe"
      },
      "outputs": [],
      "source": [
        "with open('ABC.txt') as file:\n",
        "  data = file.read(7)\n"
      ]
    },
    {
      "cell_type": "code",
      "execution_count": null,
      "metadata": {
        "colab": {
          "base_uri": "https://localhost:8080/"
        },
        "id": "qfAVk70feYFx",
        "outputId": "09d375f4-20d0-4b9a-9e4d-177c433095b8"
      },
      "outputs": [
        {
          "name": "stdout",
          "output_type": "stream",
          "text": [
            "a=5\n",
            "b=6\n"
          ]
        }
      ],
      "source": [
        "print(data)"
      ]
    },
    {
      "cell_type": "code",
      "execution_count": null,
      "metadata": {
        "id": "Y2Ezkn_zecAh"
      },
      "outputs": [],
      "source": [
        "with open('ABC.txt',\"w\") as file:\n",
        "  file.write(\"Hello, Good Morning\")"
      ]
    },
    {
      "cell_type": "code",
      "execution_count": null,
      "metadata": {
        "colab": {
          "base_uri": "https://localhost:8080/"
        },
        "id": "7k16TBRCejGn",
        "outputId": "9732f34d-d4a7-485b-bf67-7dd8eab78419"
      },
      "outputs": [
        {
          "name": "stdout",
          "output_type": "stream",
          "text": [
            "Hello, Good Morning\n"
          ]
        }
      ],
      "source": [
        "file = open('ABC.txt','r')\n",
        "print(file.read())"
      ]
    },
    {
      "cell_type": "code",
      "execution_count": null,
      "metadata": {
        "id": "bPZtCwsAepWI"
      },
      "outputs": [],
      "source": [
        "with open('ABC.txt',\"a\") as file:\n",
        "  file.write(\"Today is Wednesday\")"
      ]
    },
    {
      "cell_type": "code",
      "execution_count": null,
      "metadata": {
        "colab": {
          "base_uri": "https://localhost:8080/"
        },
        "id": "B-AtLV7Zeu93",
        "outputId": "819846b4-c75b-4265-b02d-ceffab73b4ce"
      },
      "outputs": [
        {
          "name": "stdout",
          "output_type": "stream",
          "text": [
            "Hello, Good MorningToday is Wednesday\n"
          ]
        }
      ],
      "source": [
        "file = open('ABC.txt','r')\n",
        "print(file.read())"
      ]
    },
    {
      "cell_type": "code",
      "execution_count": null,
      "metadata": {
        "id": "mGBeuy_7fGjw"
      },
      "outputs": [],
      "source": [
        "with open('ABC.txt',\"r+\") as file:\n",
        "  file.write(\"Tomorrow\")"
      ]
    },
    {
      "cell_type": "code",
      "execution_count": null,
      "metadata": {
        "colab": {
          "base_uri": "https://localhost:8080/"
        },
        "id": "w2fb88VdfKgS",
        "outputId": "1cb13fa6-6ae7-4163-a10c-319feb22841c"
      },
      "outputs": [
        {
          "name": "stdout",
          "output_type": "stream",
          "text": [
            "Tomorrowood MorningToday is Wednesday\n"
          ]
        }
      ],
      "source": [
        "file = open('ABC.txt','r')\n",
        "print(file.read())"
      ]
    },
    {
      "cell_type": "code",
      "execution_count": null,
      "metadata": {
        "colab": {
          "base_uri": "https://localhost:8080/"
        },
        "id": "SLbNkxhAfOYL",
        "outputId": "eb921621-2542-4aa0-c3a5-6778b761fa99"
      },
      "outputs": [
        {
          "name": "stdout",
          "output_type": "stream",
          "text": [
            "['Tomorrowood', 'MorningToday', 'is', 'Wednesday']\n"
          ]
        }
      ],
      "source": [
        "with open('ABC.txt',\"r\") as file:\n",
        "  data = file.readlines()\n",
        "  for line in data:\n",
        "    word =line.split()\n",
        "    print(word)"
      ]
    },
    {
      "cell_type": "code",
      "execution_count": null,
      "metadata": {
        "colab": {
          "base_uri": "https://localhost:8080/"
        },
        "id": "HAdQaLQbfXnc",
        "outputId": "dff3e40b-edba-493c-ff3b-8537a3860574"
      },
      "outputs": [
        {
          "name": "stdout",
          "output_type": "stream",
          "text": [
            "Tomorrowood MorningToday is Wednesday\n"
          ]
        }
      ],
      "source": [
        "file = open('ABC.txt','r')\n",
        "print(file.readline())\n",
        "file.close()"
      ]
    },
    {
      "cell_type": "code",
      "execution_count": null,
      "metadata": {
        "id": "kOWqzaz2fsRm"
      },
      "outputs": [],
      "source": [
        "files = open(\"training.txt\",'x')"
      ]
    },
    {
      "cell_type": "code",
      "execution_count": null,
      "metadata": {
        "id": "QFPiYK6IfztF"
      },
      "outputs": [],
      "source": [
        "files = open(\"training.txt\",'w')\n",
        "files.write(\"We will start BigData Tomorrow \")\n",
        "\n",
        "files.close()"
      ]
    },
    {
      "cell_type": "code",
      "execution_count": null,
      "metadata": {
        "colab": {
          "base_uri": "https://localhost:8080/",
          "height": 36
        },
        "id": "2f6t7rXHf55R",
        "outputId": "1964a552-73d7-4c8e-c27c-a569091f5f8c"
      },
      "outputs": [
        {
          "data": {
            "application/vnd.google.colaboratory.intrinsic+json": {
              "type": "string"
            },
            "text/plain": [
              "'We will start BigData Tomorrow we will'"
            ]
          },
          "execution_count": 98,
          "metadata": {},
          "output_type": "execute_result"
        }
      ],
      "source": [
        "files = open(\"training.txt\",'r')\n",
        "files.read()"
      ]
    },
    {
      "cell_type": "code",
      "execution_count": null,
      "metadata": {
        "id": "4n98ZcBSgBjS"
      },
      "outputs": [],
      "source": [
        "import os\n",
        "os.remove(\"training.txt\")"
      ]
    },
    {
      "cell_type": "code",
      "execution_count": null,
      "metadata": {
        "colab": {
          "base_uri": "https://localhost:8080/"
        },
        "id": "UejOsfu8gIgh",
        "outputId": "a76322b7-b497-48ad-be0f-d9020ac6da30"
      },
      "outputs": [
        {
          "data": {
            "text/plain": [
              "['__add__',\n",
              " '__class__',\n",
              " '__contains__',\n",
              " '__delattr__',\n",
              " '__delitem__',\n",
              " '__dir__',\n",
              " '__doc__',\n",
              " '__eq__',\n",
              " '__format__',\n",
              " '__ge__',\n",
              " '__getattribute__',\n",
              " '__getitem__',\n",
              " '__gt__',\n",
              " '__hash__',\n",
              " '__iadd__',\n",
              " '__imul__',\n",
              " '__init__',\n",
              " '__init_subclass__',\n",
              " '__iter__',\n",
              " '__le__',\n",
              " '__len__',\n",
              " '__lt__',\n",
              " '__mul__',\n",
              " '__ne__',\n",
              " '__new__',\n",
              " '__reduce__',\n",
              " '__reduce_ex__',\n",
              " '__repr__',\n",
              " '__reversed__',\n",
              " '__rmul__',\n",
              " '__setattr__',\n",
              " '__setitem__',\n",
              " '__sizeof__',\n",
              " '__str__',\n",
              " '__subclasshook__',\n",
              " 'append',\n",
              " 'clear',\n",
              " 'copy',\n",
              " 'count',\n",
              " 'extend',\n",
              " 'index',\n",
              " 'insert',\n",
              " 'pop',\n",
              " 'remove',\n",
              " 'reverse',\n",
              " 'sort']"
            ]
          },
          "execution_count": 43,
          "metadata": {},
          "output_type": "execute_result"
        }
      ],
      "source": [
        "x=[]\n",
        "dir(x)"
      ]
    },
    {
      "cell_type": "code",
      "execution_count": null,
      "metadata": {
        "colab": {
          "base_uri": "https://localhost:8080/",
          "height": 36
        },
        "id": "YcsJptDigLYs",
        "outputId": "1a9880e5-d381-4e0a-9be7-428680ae6ec3"
      },
      "outputs": [
        {
          "data": {
            "application/vnd.google.colaboratory.intrinsic+json": {
              "type": "string"
            },
            "text/plain": [
              "''"
            ]
          },
          "execution_count": 74,
          "metadata": {},
          "output_type": "execute_result"
        }
      ],
      "source": [
        "#files = open(\"cat.png\",'x')\n",
        "#files=open(\"cat.png\",'w)\n"
      ]
    },
    {
      "cell_type": "markdown",
      "metadata": {
        "id": "4Mgpns6a0lwA"
      },
      "source": [
        "Inserting an image"
      ]
    },
    {
      "cell_type": "code",
      "execution_count": null,
      "metadata": {
        "colab": {
          "base_uri": "https://localhost:8080/"
        },
        "id": "OXn_coDQsR1P",
        "outputId": "31abd68c-7ba0-4edb-a715-9f2633bb6f51"
      },
      "outputs": [
        {
          "data": {
            "text/plain": [
              "b''"
            ]
          },
          "execution_count": 86,
          "metadata": {},
          "output_type": "execute_result"
        }
      ],
      "source": [
        "f= open(\"flower.png\",'r+b')\n",
        "f.read()"
      ]
    },
    {
      "cell_type": "code",
      "execution_count": null,
      "metadata": {
        "id": "4lS9iVpKobVK"
      },
      "outputs": [],
      "source": [
        "f= open(\"cat1.png\",'r+b')\n",
        "f.read()"
      ]
    },
    {
      "cell_type": "markdown",
      "metadata": {
        "id": "kRT-KIBA0jU5"
      },
      "source": [
        "# remove the lines"
      ]
    },
    {
      "cell_type": "code",
      "execution_count": null,
      "metadata": {
        "id": "UvPehi0N1dvx"
      },
      "outputs": [],
      "source": [
        "with open(\"training.txt\",'w') as files:\n",
        "  files.write(\"we will start bigdata tomorrow\")"
      ]
    },
    {
      "cell_type": "code",
      "execution_count": null,
      "metadata": {
        "colab": {
          "base_uri": "https://localhost:8080/",
          "height": 36
        },
        "id": "_VUURNnovQxX",
        "outputId": "ce4fe5a3-0642-41b7-b28c-6fd0e028c0c9"
      },
      "outputs": [
        {
          "data": {
            "application/vnd.google.colaboratory.intrinsic+json": {
              "type": "string"
            },
            "text/plain": [
              "'we will start bigdata tomorrow'"
            ]
          },
          "execution_count": 106,
          "metadata": {},
          "output_type": "execute_result"
        }
      ],
      "source": [
        "files=open(\"training.txt\",'r')\n",
        "files.read()"
      ]
    },
    {
      "cell_type": "code",
      "execution_count": null,
      "metadata": {
        "colab": {
          "base_uri": "https://localhost:8080/"
        },
        "id": "RDb5CaBa1dHo",
        "outputId": "b16c9958-eacb-4fd6-e151-a3c087de1854"
      },
      "outputs": [
        {
          "data": {
            "text/plain": [
              "['we will start bigdata tomorrow']"
            ]
          },
          "execution_count": 107,
          "metadata": {},
          "output_type": "execute_result"
        }
      ],
      "source": [
        "files=open(\"training.txt\",'r')\n",
        "files.readlines()"
      ]
    },
    {
      "cell_type": "code",
      "execution_count": null,
      "metadata": {
        "id": "UwfREoULx1Fn"
      },
      "outputs": [],
      "source": [
        "def remove_newlines(fname):\n",
        "  fileop=open(fname).readlines()\n",
        "  return[s.rstrip('\\n') for s in fileop]"
      ]
    },
    {
      "cell_type": "code",
      "execution_count": null,
      "metadata": {
        "colab": {
          "base_uri": "https://localhost:8080/"
        },
        "id": "XaGmjqijyuHb",
        "outputId": "c0415aff-9924-4698-e672-9c65ed914f30"
      },
      "outputs": [
        {
          "name": "stdout",
          "output_type": "stream",
          "text": [
            "['we will start bigdata tomorrow']\n"
          ]
        }
      ],
      "source": [
        "result=remove_newlines('training.txt')\n",
        "print(result)"
      ]
    },
    {
      "cell_type": "code",
      "execution_count": null,
      "metadata": {
        "colab": {
          "base_uri": "https://localhost:8080/",
          "height": 36
        },
        "id": "q1NlRk9R02dZ",
        "outputId": "dd56bdec-6d26-41c3-f1d5-c168e9a269b0"
      },
      "outputs": [
        {
          "data": {
            "application/vnd.google.colaboratory.intrinsic+json": {
              "type": "string"
            },
            "text/plain": [
              "'We will start BigData Tomorrow'"
            ]
          },
          "execution_count": 96,
          "metadata": {},
          "output_type": "execute_result"
        }
      ],
      "source": [
        "files=open('training.txt','r')\n",
        "files.read()"
      ]
    },
    {
      "cell_type": "markdown",
      "metadata": {
        "id": "m-NBIXXZ25oD"
      },
      "source": [
        "#using with no need of close function it will execute automatically"
      ]
    },
    {
      "cell_type": "code",
      "execution_count": null,
      "metadata": {
        "id": "4yG3NOKt2Rxr"
      },
      "outputs": [],
      "source": [
        "with open(\"training.txt\",'w') as files:\n",
        "  files.write(\"tomorrow is thursday\")"
      ]
    },
    {
      "cell_type": "code",
      "execution_count": null,
      "metadata": {
        "colab": {
          "base_uri": "https://localhost:8080/",
          "height": 36
        },
        "id": "p9fkYHl62lDD",
        "outputId": "88609875-e198-486e-98ed-5684e7c36ba2"
      },
      "outputs": [
        {
          "data": {
            "application/vnd.google.colaboratory.intrinsic+json": {
              "type": "string"
            },
            "text/plain": [
              "'tomorrow is thursday'"
            ]
          },
          "execution_count": 113,
          "metadata": {},
          "output_type": "execute_result"
        }
      ],
      "source": [
        "files=open('training.txt','r')\n",
        "files.read()"
      ]
    },
    {
      "cell_type": "markdown",
      "metadata": {
        "id": "ig_z0xIy3LP3"
      },
      "source": [
        "# copying a image and creating a new image"
      ]
    },
    {
      "cell_type": "code",
      "execution_count": null,
      "metadata": {
        "id": "fxM7SVh13Q4Y"
      },
      "outputs": [],
      "source": [
        "f=open(\"lion.png\",'rb')\n",
        "f1=open('LION.png','wb')\n"
      ]
    },
    {
      "cell_type": "code",
      "execution_count": null,
      "metadata": {
        "id": "NVeCeDu44SG1"
      },
      "outputs": [],
      "source": [
        "for i in f:\n",
        "  f1.write(i)"
      ]
    },
    {
      "cell_type": "markdown",
      "metadata": {
        "id": "9qnEvqqu4Z06"
      },
      "source": [
        "# checking cell is opened or closed"
      ]
    },
    {
      "cell_type": "code",
      "execution_count": 177,
      "metadata": {
        "colab": {
          "base_uri": "https://localhost:8080/"
        },
        "id": "_F27758j4fev",
        "outputId": "5a721ef8-5fc2-4c89-a6b6-0c804ac61997"
      },
      "outputs": [
        {
          "output_type": "execute_result",
          "data": {
            "text/plain": [
              "11"
            ]
          },
          "metadata": {},
          "execution_count": 177
        }
      ],
      "source": [
        "f=open('training.txt','w')\n",
        "f.write(\"all is well\")"
      ]
    },
    {
      "cell_type": "code",
      "execution_count": 178,
      "metadata": {
        "colab": {
          "base_uri": "https://localhost:8080/"
        },
        "id": "Pk52INJR4mKR",
        "outputId": "ac2b11c6-5fbd-4b11-f51a-a9a939cd2057"
      },
      "outputs": [
        {
          "output_type": "stream",
          "name": "stdout",
          "text": [
            "False\n"
          ]
        }
      ],
      "source": [
        "print(f.closed)"
      ]
    },
    {
      "cell_type": "code",
      "execution_count": 179,
      "metadata": {
        "id": "SOevooXv4uZi"
      },
      "outputs": [],
      "source": [
        "#checking with (with statement)\n",
        "\n",
        "with open('training.txt','w') as files:\n",
        "  files.write(\"my name is sumayya\")"
      ]
    },
    {
      "cell_type": "code",
      "execution_count": 180,
      "metadata": {
        "colab": {
          "base_uri": "https://localhost:8080/"
        },
        "id": "SYSlBtxe4-hn",
        "outputId": "2496544e-1fa0-46e1-db5c-6b557073c5c7"
      },
      "outputs": [
        {
          "output_type": "stream",
          "name": "stdout",
          "text": [
            "True\n"
          ]
        }
      ],
      "source": [
        "print(files.closed)"
      ]
    },
    {
      "cell_type": "markdown",
      "metadata": {
        "id": "a5uDVxbo54_V"
      },
      "source": [
        "# file copying"
      ]
    },
    {
      "cell_type": "code",
      "execution_count": null,
      "metadata": {
        "id": "ZCA0dfSx5FKO"
      },
      "outputs": [],
      "source": [
        "from shutil import copyfile"
      ]
    },
    {
      "cell_type": "code",
      "execution_count": null,
      "metadata": {
        "colab": {
          "base_uri": "https://localhost:8080/",
          "height": 36
        },
        "id": "e0WmJYmJ5Rci",
        "outputId": "efd78895-d239-4f66-e133-70683553e8b6"
      },
      "outputs": [
        {
          "data": {
            "application/vnd.google.colaboratory.intrinsic+json": {
              "type": "string"
            },
            "text/plain": [
              "'trng.txt'"
            ]
          },
          "execution_count": 126,
          "metadata": {},
          "output_type": "execute_result"
        }
      ],
      "source": [
        "copyfile('training.txt','trng.txt')"
      ]
    },
    {
      "cell_type": "code",
      "execution_count": null,
      "metadata": {
        "colab": {
          "base_uri": "https://localhost:8080/"
        },
        "id": "68L95ipb5ZiI",
        "outputId": "b2027b64-d2d8-490b-cc68-cf6a6a96c1ed"
      },
      "outputs": [
        {
          "name": "stdout",
          "output_type": "stream",
          "text": [
            "True\n"
          ]
        }
      ],
      "source": [
        "print(files.closed)"
      ]
    },
    {
      "cell_type": "markdown",
      "metadata": {
        "id": "FJnMbdaJ7W9r"
      },
      "source": [
        "# 1.Implement a program to write a list into a file"
      ]
    },
    {
      "cell_type": "code",
      "execution_count": null,
      "metadata": {
        "id": "haODHCgd7dxg"
      },
      "outputs": [],
      "source": [
        "students=['sumayya','aiman','pooja']\n",
        "\n",
        "with open('stud.txt',\"w\") as student:\n",
        "  for line in students:\n",
        "    student.write(\"%s\\n\" % line) "
      ]
    },
    {
      "cell_type": "code",
      "execution_count": null,
      "metadata": {
        "colab": {
          "base_uri": "https://localhost:8080/"
        },
        "id": "YtwCZERF-C-z",
        "outputId": "a8190491-f088-44ff-ca61-d3a384caa0fa"
      },
      "outputs": [
        {
          "name": "stdout",
          "output_type": "stream",
          "text": [
            "sumayya\n",
            "aiman\n",
            "pooja\n",
            "\n"
          ]
        }
      ],
      "source": [
        "file=open('stud.txt','r')\n",
        "print(file.read())   "
      ]
    },
    {
      "cell_type": "markdown",
      "metadata": {
        "id": "QTo5Ej7D-WND"
      },
      "source": [
        "# 2.Implement a program to read random line from a file containing lines of data in it(using random library)"
      ]
    },
    {
      "cell_type": "code",
      "execution_count": 176,
      "metadata": {
        "colab": {
          "base_uri": "https://localhost:8080/"
        },
        "id": "cpYxtW7RA983",
        "outputId": "60a11cd9-abb6-45a9-a38a-12bb7ce6b5d9"
      },
      "outputs": [
        {
          "output_type": "stream",
          "name": "stdout",
          "text": [
            "tomorrow\n"
          ]
        }
      ],
      "source": [
        "import random\n",
        "\n",
        "with open('random.txt',\"w\") as file:\n",
        "  file.write(\"tomorrow is thursday two more days for saturday\")  \n",
        "\n",
        "file=open(\"random.txt\",'r')\n",
        "allText = file.read()\n",
        "words = list(map(str, allText.split()))\n",
        "  \n",
        "print(random.choice(words))"
      ]
    }
  ],
  "metadata": {
    "colab": {
      "provenance": [],
      "authorship_tag": "ABX9TyPdIcVHWbCYyulFOg20WhGm",
      "include_colab_link": true
    },
    "kernelspec": {
      "display_name": "Python 3",
      "name": "python3"
    },
    "language_info": {
      "name": "python"
    }
  },
  "nbformat": 4,
  "nbformat_minor": 0
}