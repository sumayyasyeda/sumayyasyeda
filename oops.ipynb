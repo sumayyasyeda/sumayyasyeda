{
  "nbformat": 4,
  "nbformat_minor": 0,
  "metadata": {
    "colab": {
      "provenance": [],
      "authorship_tag": "ABX9TyNcTdSOFQ5G7RUhC+3I7iBf",
      "include_colab_link": true
    },
    "kernelspec": {
      "name": "python3",
      "display_name": "Python 3"
    },
    "language_info": {
      "name": "python"
    }
  },
  "cells": [
    {
      "cell_type": "markdown",
      "metadata": {
        "id": "view-in-github",
        "colab_type": "text"
      },
      "source": [
        "<a href=\"https://colab.research.google.com/github/sumayyasyeda/sumayyasyeda/blob/main/oops.ipynb\" target=\"_parent\"><img src=\"https://colab.research.google.com/assets/colab-badge.svg\" alt=\"Open In Colab\"/></a>"
      ]
    },
    {
      "cell_type": "code",
      "execution_count": 2,
      "metadata": {
        "colab": {
          "base_uri": "https://localhost:8080/"
        },
        "id": "N7gJv7Gz3sDf",
        "outputId": "70c508bb-6f11-4611-fd37-d015a2a6c05d"
      },
      "outputs": [
        {
          "output_type": "stream",
          "name": "stdout",
          "text": [
            "Student ID: 10 \n",
            "Student Name: sumayya\n",
            "student_class: 10-A\n",
            "Student ID: 10 \n",
            "Student Name: sumayya\n"
          ]
        }
      ],
      "source": [
        "#1.Write a Python class named Student with two attributes student_id, student_name. Add a new attribute student_class and display the entire attribute and their values of the said class. \n",
        "# Now remove the student_name attribute and display the entire attribute with values.\n",
        "\n",
        "class student:\n",
        "  student_class=\"10-A\"\n",
        "  def __init__(self,student_id,student_name):\n",
        "    self.student_id=student_id\n",
        "    self.student_name=student_name\n",
        "  def student_data(self):\n",
        "    print(\"Student ID:\",self.student_id,\"\\nStudent Name:\",self.student_name)\n",
        "p=student(\"10\",\"sumayya\")\n",
        "p.student_data()\n",
        "print(\"student_class:\",student.student_class)\n",
        "del student.student_class\n",
        "p.student_data()"
      ]
    },
    {
      "cell_type": "code",
      "source": [
        "p.student_data()"
      ],
      "metadata": {
        "colab": {
          "base_uri": "https://localhost:8080/"
        },
        "id": "4qwwd9-75WjO",
        "outputId": "b36599b4-a3c5-47ba-9f1e-c9ff0c65babc"
      },
      "execution_count": 3,
      "outputs": [
        {
          "output_type": "stream",
          "name": "stdout",
          "text": [
            "Student ID: 10 \n",
            "Student Name: sumayya\n"
          ]
        }
      ]
    },
    {
      "cell_type": "code",
      "source": [
        "p.student_id=6\n",
        "p.student_data()"
      ],
      "metadata": {
        "colab": {
          "base_uri": "https://localhost:8080/"
        },
        "id": "VfxnOCUh5nuS",
        "outputId": "40a5f632-4779-4684-dc81-5a225e94aeb1"
      },
      "execution_count": 4,
      "outputs": [
        {
          "output_type": "stream",
          "name": "stdout",
          "text": [
            "Student ID: 6 \n",
            "Student Name: sumayya\n"
          ]
        }
      ]
    },
    {
      "cell_type": "code",
      "source": [
        "#2.write a python class to implement pow(x,n)\n",
        "\n",
        "class power:\n",
        "  def __init__(self,x,n):\n",
        "    self.x=x\n",
        "    self.n=n\n",
        "  def pow_r(self):\n",
        "    print(\"Pow(x,n):\",self.x**self.n)\n",
        "p=power(1000,1)\n",
        "p.pow_r()"
      ],
      "metadata": {
        "colab": {
          "base_uri": "https://localhost:8080/"
        },
        "id": "GXzsLqY65xTx",
        "outputId": "4325f6a4-f9a4-458c-ed97-2c396fbd8d26"
      },
      "execution_count": 5,
      "outputs": [
        {
          "output_type": "stream",
          "name": "stdout",
          "text": [
            "Pow(x,n): 1000\n"
          ]
        }
      ]
    },
    {
      "cell_type": "code",
      "source": [
        "#3.write a program to create a python class to reverse a string word by word\n",
        "\n",
        "class rev_wrd:\n",
        "  word=\"Python Programming\"\n",
        "  strng=word.split()[::-1]\n",
        "  def rev_res(self):\n",
        "    print(\"Reversed String:\",\" \".join(rev_wrd.strng))\n",
        "result=rev_wrd()\n",
        "result.rev_res()"
      ],
      "metadata": {
        "colab": {
          "base_uri": "https://localhost:8080/"
        },
        "id": "VPcrQ4hQ6CIa",
        "outputId": "a89756f8-7686-45fb-cc19-4d350ea39814"
      },
      "execution_count": 6,
      "outputs": [
        {
          "output_type": "stream",
          "name": "stdout",
          "text": [
            "Reversed String: Programming Python\n"
          ]
        }
      ]
    },
    {
      "cell_type": "code",
      "source": [
        "#4.Write a Python class named Circle constructed by a radius and two methods which will\n",
        "#compute the area and the perimeter of a circle\n",
        "\n",
        "import math as m\n",
        "class circle:\n",
        "  def __init__(self, r):\n",
        "    self.r=r\n",
        "  def area(self):\n",
        "    print(\"Area of the circle:\",self.r**2*m.pi)\n",
        "  def perimeter(self):\n",
        "    print(\"perimeter of the Circle:\",self.r*2*m.pi)\n",
        "result=circle(5)\n",
        "result.area()\n",
        "result.perimeter()"
      ],
      "metadata": {
        "colab": {
          "base_uri": "https://localhost:8080/"
        },
        "id": "nbpYpshp6jMF",
        "outputId": "641445a8-d6a1-475b-a369-9b61953bd2c3"
      },
      "execution_count": 7,
      "outputs": [
        {
          "output_type": "stream",
          "name": "stdout",
          "text": [
            "Area of the circle: 78.53981633974483\n",
            "perimeter of the Circle: 31.41592653589793\n"
          ]
        }
      ]
    },
    {
      "cell_type": "code",
      "source": [
        "#5.Write a Python class to convert a roman numeral to an integer\n",
        "\n",
        "class rtoi:\n",
        "  roman={'I':1,\"V\":5,'X':10,'L':50,'C':100,'D':500, 'M': 1000}\n",
        "  def __init__(self,rom):\n",
        "    self.rom=rom\n",
        "    for i in rtoi.roman.items():\n",
        "      if(rtoi.roman.keys()==self.rom):\n",
        "        print(rtoi.roman.values())\n",
        "  def covRes(self):\n",
        "    print(\"Roman numeral to Integer:\",rtoi.roman.values())\n",
        "\n",
        "c=rtoi(\"X\")\n",
        "c.covRes()"
      ],
      "metadata": {
        "colab": {
          "base_uri": "https://localhost:8080/"
        },
        "id": "y1ABf-8f64BC",
        "outputId": "381a70be-cd2d-40e4-a254-cf4bdfd6100e"
      },
      "execution_count": 8,
      "outputs": [
        {
          "output_type": "stream",
          "name": "stdout",
          "text": [
            "Roman numeral to Integer: dict_values([1, 5, 10, 50, 100, 500, 1000])\n"
          ]
        }
      ]
    },
    {
      "cell_type": "code",
      "source": [
        "class py_solution:\n",
        "    def roman_to_int(self, s):\n",
        "        rom_val = {'I': 1, 'V': 5, 'X': 10, 'L': 50, 'C': 100, 'D': 500, 'M': 1000}\n",
        "        int_val = 0\n",
        "        for i in range(len(s)):\n",
        "            if i > 0 and rom_val[s[i]] > rom_val[s[i - 1]]:\n",
        "                int_val += rom_val[s[i]] - 2 * rom_val[s[i - 1]]\n",
        "            else:\n",
        "                int_val += rom_val[s[i]]\n",
        "        return int_val\n",
        "print(py_solution().roman_to_int('MMMM'))\n",
        "print(py_solution().roman_to_int('X'))"
      ],
      "metadata": {
        "colab": {
          "base_uri": "https://localhost:8080/"
        },
        "id": "NidKUoZF7M42",
        "outputId": "a1aec1a9-64cf-4f07-dd55-02047f6d9681"
      },
      "execution_count": 9,
      "outputs": [
        {
          "output_type": "stream",
          "name": "stdout",
          "text": [
            "4000\n",
            "10\n"
          ]
        }
      ]
    }
  ]
}